{
 "cells": [
  {
   "cell_type": "code",
   "execution_count": 1,
   "metadata": {},
   "outputs": [
    {
     "name": "stdout",
     "output_type": "stream",
     "text": [
      "c:\\Users\\Le-Hao.Hsu\\OneDrive - Foxconn Industrial Internet in North America\\Desktop\\Gavin\\cims_test\n"
     ]
    }
   ],
   "source": [
    "import data_query as dq\n",
    "import testing_process as tp\n",
    "import importlib\n",
    "import pandas as pd\n",
    "importlib.reload(dq)\n",
    "importlib.reload(tp)\n",
    "import warnings\n",
    "import re\n",
    "warnings.simplefilter(action='ignore', category=Warning)"
   ]
  },
  {
   "cell_type": "markdown",
   "metadata": {},
   "source": [
    "### Symptom_repair_table"
   ]
  },
  {
   "cell_type": "code",
   "execution_count": 2,
   "metadata": {},
   "outputs": [],
   "source": [
    "suggestion_query = '''\n",
    "                    SELECT sls.prod_ver, sls.symptom_label, sls.message, sls.cycle_count,  slc.name as category, sls.repair_suggestion\n",
    "                    FROM manufacturing_symptomlabelsuggestion sls\n",
    "                    JOIN manufacturing_symptomlabelcategory slc\n",
    "                    ON sls.category_id = slc.id;\n",
    "                    '''\n",
    "cat_df = tp.db_connect(suggestion_query)"
   ]
  },
  {
   "cell_type": "markdown",
   "metadata": {},
   "source": [
    "### Overall information\n",
    "1. Units that are completed after 2025-04-01\n",
    "2. Completed defined by complete = 1 and station_id = Pack\n",
    "3. Limited to production version: ACON or GLP\n",
    "4. Units with at least one repair record\n",
    "\n",
    "Till 2025/06/03, there are 22320 units matched"
   ]
  },
  {
   "cell_type": "code",
   "execution_count": 3,
   "metadata": {},
   "outputs": [],
   "source": [
    "test_query = '''\n",
    "SELECT mtr.serial_number, mtr.station, wo.production_version,\n",
    "    SUBSTRING(CAST(msn.complete_date AS TEXT) FROM 1 FOR 19) complete_date,\n",
    "    SUBSTRING(CAST(mtr.testing_date AS TEXT) FROM 1 FOR 19) AS testing_date,\n",
    "    SUBSTRING(CAST(rm.repaired_date AS TEXT) FROM 1 FOR 19) AS repaired_date,\n",
    "    mtr.result test_result, rm.result AS repair_result, mtr.symptom_info, rm.failure_description\n",
    "FROM public.manufacturing_serialnumber msn\n",
    "LEFT JOIN manufacturing_testingresult mtr ON msn.serial_number = mtr.serial_number\n",
    "LEFT JOIN public.manufacturing_repairmain rm ON mtr.rowid = rm.testing_result_id\n",
    "LEFT JOIN public.manufacturing_workorder wo ON msn.workorder_id = wo.workorder_id\n",
    "LEFT JOIN public.manufacturing_repairdetail rd ON rm.failure_sequence = rd.failure_sequence\n",
    "WHERE wo.production_version IN ('ACON', 'GLP') \n",
    "    AND mtr.serial_number IN (\n",
    "        SELECT DISTINCT mtr_sub.serial_number\n",
    "        FROM manufacturing_testingresult mtr_sub\n",
    "        LEFT JOIN public.manufacturing_repairmain rm_sub ON mtr_sub.rowid = rm_sub.testing_result_id\n",
    "        WHERE rm_sub.result = 0 AND rm_sub.repaired_date IS NULL\n",
    "    )\n",
    "ORDER BY mtr.serial_number, mtr.testing_date, rm.repaired_date;\n",
    "'''\n",
    "summary_df = tp.db_connect(test_query)"
   ]
  },
  {
   "cell_type": "code",
   "execution_count": 4,
   "metadata": {},
   "outputs": [],
   "source": [
    "copy_df = summary_df.copy()"
   ]
  },
  {
   "cell_type": "code",
   "execution_count": 5,
   "metadata": {},
   "outputs": [],
   "source": [
    "copy_df['cycle'] = (\n",
    "    copy_df.groupby(['serial_number', 'failure_description'])\n",
    "              .cumcount() + 1\n",
    ")\n",
    "\n",
    "\n",
    "def extract_matching_msg(row):\n",
    "    if row.get(\"repair_result\") != 0:\n",
    "        return None  # Only process rows where repair_result == 0\n",
    "\n",
    "    info = row['symptom_info']\n",
    "    target_label = row['failure_description']\n",
    "    \n",
    "    if isinstance(info, dict):\n",
    "        for item in info.values():\n",
    "            if item.get('symptom_label') == target_label:\n",
    "                return item.get('symptom_msg')\n",
    "    return None\n",
    "\n",
    "copy_df['message'] = copy_df.apply(extract_matching_msg, axis=1)"
   ]
  },
  {
   "cell_type": "code",
   "execution_count": 6,
   "metadata": {},
   "outputs": [],
   "source": [
    "work_label = [\"pcierrors-high-lane_error-rate\"]"
   ]
  },
  {
   "cell_type": "code",
   "execution_count": 7,
   "metadata": {},
   "outputs": [],
   "source": [
    "cat_label = cat_df.symptom_label.unique()\n",
    "lookup_df = copy_df[~copy_df['message'].isna()][['serial_number', 'station', 'testing_date', 'production_version', 'failure_description', 'cycle', 'message']]\n",
    "lookup_df = lookup_df[lookup_df.failure_description.isin(cat_label)]"
   ]
  },
  {
   "cell_type": "code",
   "execution_count": 227,
   "metadata": {},
   "outputs": [],
   "source": [
    "filter_results = []\n",
    "for idx, row in lookup_df.iterrows():\n",
    "    failure_description = row['failure_description']\n",
    "    cycle_count = row['cycle']\n",
    "    production_version = row['production_version']\n",
    "    max_count = 5\n",
    "\n",
    "    res = cat_df[\n",
    "        (cat_df['symptom_label'] == failure_description) &\n",
    "        (cat_df['cycle_count'] == (max_count if cycle_count >= 5 else cycle_count)) &\n",
    "        (cat_df['prod_ver'] == production_version)\n",
    "    ]\n",
    "    filter_results.append(res)"
   ]
  },
  {
   "cell_type": "code",
   "execution_count": 13,
   "metadata": {},
   "outputs": [],
   "source": [
    "PATTERN_DICT = {\n",
    "    \"Checking BMC boot readiness and get BMC IP Failed\": [\n",
    "        r\"Switch to agora console failed.*\", r\"Failed to get IP address\"\n",
    "    ],\n",
    "    \"HB16 firmware check Failed\": [\n",
    "        r\"Send command\", r\"Check HB16 version failed\"\n",
    "    ],\n",
    "    \"The sensor count of Config_check_HW is not matched.\":[\n",
    "        fr\"OUTLET T {i}\" for i in range(1, 4)\n",
    "    ] + [r\"P48V\"],\n",
    "    \"Validate Diorite PN, SN and installed slot Failed\": lambda msg: [\n",
    "        fr\"usb_loc {port}.*Timeout opening channel\" \n",
    "        for port in [\"1-1.1\", \"1-1.2\", \"1-1.7.1\", \"1-1.7.2\"] if port in msg] + [\n",
    "        fr\"usb_loc {port}\" \n",
    "        for port in [\"1-1.1\", \"1-1.2\", \"1-1.7.1\", \"1-1.7.2\"] if port in msg\n",
    "    ],\n",
    "    \"pcierrors-high-lane_error-rate\": lambda msg: (\n",
    "        [\n",
    "            rf\"0000:({'|'.join(group)})\\b\"\n",
    "            for group in [\n",
    "                {\"00\", \"01\"}, {\"20\", \"21\"}, {\"40\", \"41\"}, {\"60\", \"61\"},\n",
    "                {\"80\", \"81\"}, {\"a0\", \"a1\"}, {\"c0\", \"c1\"}, {\"e0\", \"e1\"}\n",
    "            ]\n",
    "            if (match := re.search(r\"0000:([a-fA-F0-9]{2})\", msg)) and match.group(1).lower() in group\n",
    "        ]\n",
    "        if re.search(r\"0000:([a-fA-F0-9]{2})\", msg)\n",
    "        else []\n",
    "    ),\n",
    "    \"Lower critical limit violated\": lambda msg: (\n",
    "        [rf\"^got \\d+ violations, exceeding threshold of \\d+ for sensor fan{fan} tach\\.\"\n",
    "        for fan in range(0, 6)\n",
    "        if f\"sensor fan{fan}\" in msg.lower()] +\n",
    "        [r\"^got \\d+ violations, exceeding threshold of \\d+ for sensor RTC 3V\\.\"]\n",
    "    ),\n",
    "    \"Diorite location validation failure\": [\n",
    "        r\"Component diorite sn: .*? not found on unit\", r\"Component diorite sn \\S+ location: \\S+, expected location: \\S+\"\n",
    "    ],\n",
    "    \"Create Host SSH Connection failed\": [\n",
    "        r\"No address associated with hostname\", r\"Unable to connect to\"\n",
    "    ],\n",
    "    \"excessive-correctable-unclassified-cpu-errors\": lambda msg: (\n",
    "        [fr\"CPU{i} UNCLASSIFIED\" for i in range(0,2) if f\"CPU{i}\" in msg]\n",
    "    ),\n",
    "\n",
    "    \"Update Foxconn BIOS Failed\" : [\n",
    "        r\"^Update BIOS failed\\..*\", r\"^Update BIOS failed\\.(\\r\\n)?Exception message:.*\" \n",
    "    ],\n",
    "    \"Total Sensors fail\": [\n",
    "        fr\"OUTLET T {i}\" for i in range(1, 4)\n",
    "    ] + [r\"P48V\"],\n",
    "    \"unknown-pcie-location\": lambda msg: (\n",
    "        [\n",
    "            rf\"0000:({'|'.join(group)})\\b\"\n",
    "            for group in [\n",
    "                {\"00\", \"01\"}, {\"20\", \"21\"}, {\"40\", \"41\"}, {\"60\", \"61\"},\n",
    "                {\"80\", \"81\"}, {\"a0\", \"a1\"}, {\"c0\", \"c1\"}, {\"e0\", \"e1\"}\n",
    "            ]\n",
    "            if (match := re.search(r\"0000:([a-fA-F0-9]{2})\", msg)) and match.group(1).lower() in group\n",
    "        ]\n",
    "        if re.search(r\"0000:([a-fA-F0-9]{2})\", msg)\n",
    "        else []\n",
    "    ),\n",
    "    \"pcierrors-high-receiver_error-rate\": lambda msg: (\n",
    "        [\n",
    "            rf\"0000:({'|'.join(group)})\\b\"\n",
    "            for group in [\n",
    "                {\"00\", \"01\"}, {\"20\", \"21\"}, {\"40\", \"41\"}, {\"60\", \"61\"},\n",
    "                {\"80\", \"81\"}, {\"a0\", \"a1\"}, {\"c0\", \"c1\"}, {\"e0\", \"e1\"}\n",
    "            ]\n",
    "            if (match := re.search(r\"0000:([a-fA-F0-9]{2})\", msg)) and match.group(1).lower() in group\n",
    "        ]\n",
    "        if re.search(r\"0000:([a-fA-F0-9]{2})\", msg)\n",
    "        else []\n",
    "    ),\n",
    "    \"DMA stress test Failed\": [\n",
    "        \"DMA channel not found in stress result\",\n",
    "        \"Send command 'ls /root/run_dmatest_host_per.sh' failed.\",\n",
    "        \"Send command 'ls /sys/module/dmatest/parameters/' failed.\",\n",
    "        r\"Send command 'sh /root/run_dmatest_host_per\\.sh .*' failed\\.\"  # <- regex with variable arguments\n",
    "    ],\n",
    "    \"Update Google BIOS Failed\": [\n",
    "        r\"Send command '/export/hda3/meltan/biosintegrity/biosintegrity --expected_bios_version=.*?' failed\\.\\s*Failure Info:\",\n",
    "        r\"Update BIOS failed\\.\\s*.*bios\\.bin\\s*.*bios\\.sig\"\n",
    "    ],\n",
    "    \"HB16 location validation failure\": [\n",
    "        r\"Component HB16 SN: .*? not found on unit\", r\"Component HB16 SN \\S+ location: \\S+, expected location: \\S+\"\n",
    "    ],\n",
    "    \"FRU infos validation failure\": [\n",
    "        r\"(SN: [\\w-]+ [\\w-]+ not (found on unit|match unit)|PN:\\s?[\\w-]+ not (found on unit|match unit))\", \n",
    "        r\"SN: PDF\\w+ not found on unit\",  \n",
    "        r\"SN: IPB\\w+ not found on unit\",  \n",
    "        r\"SN: AST\\w+ not found on unit\",  \n",
    "        r\"SN: AAH\\w+ not found on unit\",  \n",
    "        r\"SN: KW\\w+-\\w+ \\w+ not found on unit\",  \n",
    "        r\"SN: HAB\\w+ not found on unit\"   \n",
    "    ]\n",
    "}"
   ]
  },
  {
   "cell_type": "code",
   "execution_count": 14,
   "metadata": {},
   "outputs": [],
   "source": [
    "import re\n",
    "def select_best_message(data, failure_label, symptom_msg, pattern_dict=None):\n",
    "    # Step 1: Exact match\n",
    "    for idx, suggestion in data.iterrows():\n",
    "        if suggestion['message'].strip() == symptom_msg.strip():\n",
    "            print(\"Find exact match\")\n",
    "            return suggestion['message']\n",
    "\n",
    "    # Step 2: Get patterns from matched label in pattern dict\n",
    "    if pattern_dict and failure_label in pattern_dict:\n",
    "        patterns = pattern_dict[failure_label](symptom_msg) \\\n",
    "            if callable(pattern_dict[failure_label]) else pattern_dict[failure_label]\n",
    "    else:\n",
    "        patterns = []\n",
    "    # Step 3: Check if any pattern matches\n",
    "    for pattern in patterns:\n",
    "        if re.search(pattern, symptom_msg, re.IGNORECASE | re.DOTALL):\n",
    "            # Pattern matched the input — now match it in suggestion\n",
    "            for idx, suggestion in data.iterrows():\n",
    "                if re.search(pattern, suggestion[\"message\"], re.IGNORECASE | re.DOTALL):\n",
    "                    print(\"Find match\")\n",
    "                    return suggestion['message']\n",
    "    print(\"no match and return the first record\")\n",
    "    print(\"messages options include\")\n",
    "    i = 1\n",
    "    for item in data.message.to_list():\n",
    "        print(f\"{i}.\")\n",
    "        i+=1\n",
    "        print(item)\n",
    "    return data['message'].iloc[0]\n"
   ]
  },
  {
   "cell_type": "code",
   "execution_count": 11,
   "metadata": {},
   "outputs": [],
   "source": [
    "repair_query = '''\n",
    "    SELECT \n",
    "    wo.model_name, wo.production_version, mtr.serial_number, mtr.station,\n",
    "    SUBSTRING(CAST(msn.complete_date AS TEXT) FROM 1 FOR 19) complete_date,\n",
    "    SUBSTRING(CAST(mtr.testing_date AS TEXT) FROM 1 FOR 19) AS testing_date,\n",
    "    SUBSTRING(CAST(rm.repaired_date AS TEXT) FROM 1 FOR 19) AS repaired_date,\n",
    "    mtr.result test_result, rm.result AS repair_result, mtr.symptom_info, rm.failure_description,\n",
    "    sls.symptom_label, message, cycle_count, slc.name\n",
    "    FROM public.manufacturing_serialnumber msn\n",
    "    LEFT JOIN manufacturing_testingresult mtr on msn.serial_number = mtr.serial_number\n",
    "    LEFT JOIN public.manufacturing_repairmain rm ON mtr.rowid = rm.testing_result_id\n",
    "    LEFT JOIN public.manufacturing_workorder wo ON msn.workorder_id = wo.workorder_id\n",
    "    LEFT JOIN public.manufacturing_repairdetail rd ON rm.failure_sequence = rd.failure_sequence\n",
    "    LEFT JOIN public.manufacturing_symptomlabelsuggestion sls ON rd.symptom_suggestion_id = sls.id\n",
    "    LEFT JOIN public.manufacturing_symptomlabelcategory slc ON sls.category_id = slc.id\n",
    "    WHERE msn.complete_date >= '2025-04-01'\n",
    "    AND msn.completed = 1 AND msn.station_id = 'Pack' AND wo.production_version in ('ACON', 'GLP')\n",
    "    AND mtr.serial_number IN (\n",
    "        -- Ensure serial numbers have at least one result = 0\n",
    "        SELECT mtr_sub.serial_number\n",
    "        FROM manufacturing_testingresult mtr_sub\n",
    "        LEFT JOIN public.manufacturing_repairmain rm_sub ON mtr_sub.rowid = rm_sub.testing_result_id\n",
    "        LEFT JOIN public.manufacturing_repairdetail rd_sub ON rm_sub.failure_sequence = rd_sub.failure_sequence\n",
    "        WHERE mtr_sub.result = 0 \n",
    "        GROUP BY mtr_sub.serial_number\n",
    "    )\n",
    "    ORDER BY mtr.serial_number, msn.complete_date, mtr.testing_date, rm.repaired_date;\n",
    "'''\n",
    "repair_df = tp.db_connect(repair_query)"
   ]
  },
  {
   "cell_type": "code",
   "execution_count": 12,
   "metadata": {},
   "outputs": [],
   "source": [
    "repair_df = repair_df[['production_version', 'serial_number', 'station', 'repaired_date', 'test_result','repair_result', 'symptom_info', 'failure_description', 'symptom_label','message', 'cycle_count', 'name']]"
   ]
  },
  {
   "cell_type": "code",
   "execution_count": 15,
   "metadata": {},
   "outputs": [],
   "source": [
    "def process_sn_group(sn_group, cat_df):\n",
    "    sn_group = sn_group.copy()\n",
    "\n",
    "    # Filter valid rows once\n",
    "    valid_rows = sn_group[\n",
    "        (sn_group[\"test_result\"] == 0) &\n",
    "        (sn_group[\"symptom_info\"].apply(lambda x: isinstance(x, dict) and len(x) > 0))&\n",
    "        (pd.to_datetime(sn_group[\"repaired_date\"]) < pd.Timestamp(\"2025-05-07\"))\n",
    "    ]\n",
    "\n",
    "    # Step 1: Fill in symptom_label and message\n",
    "    for idx, row in valid_rows.iterrows():\n",
    "        if pd.isna(row[\"symptom_label\"]):\n",
    "            for item in row[\"symptom_info\"].values():\n",
    "                if item.get(\"symptom_label\") == row[\"failure_description\"]:\n",
    "                    sn_group.at[idx, \"symptom_label\"] = item[\"symptom_label\"]\n",
    "                    sn_group.at[idx, \"message\"] = item.get(\"symptom_msg\", \"\")\n",
    "                    break\n",
    "\n",
    "    # Step 2: Assign cycle_count per label\n",
    "    label_counter = {}\n",
    "    for idx in valid_rows.index:\n",
    "        label = sn_group.at[idx, \"symptom_label\"]\n",
    "        if pd.notna(label):\n",
    "            label_counter[label] = label_counter.get(label, 0) + 1\n",
    "            sn_group.at[idx, \"cycle_count\"] = label_counter[label]\n",
    "\n",
    "    # Step 3: Assign category name\n",
    "    for idx in valid_rows.index:\n",
    "        try:\n",
    "            row = sn_group.loc[idx]\n",
    "            max_cycle_count = 5\n",
    "            # Fetch candidates from cat_df \n",
    "            matched_candidates = cat_df[\n",
    "                (cat_df[\"symptom_label\"] == row[\"symptom_label\"]) &\n",
    "                (cat_df[\"prod_ver\"] == row[\"production_version\"]) &\n",
    "                (cat_df[\"cycle_count\"] == min(row[\"cycle_count\"], max_cycle_count))  # apply cap\n",
    "            ]\n",
    "            if len(matched_candidates) == 1:\n",
    "                sn_group.at[idx, \"name\"] = matched_candidates[\"category\"].values[0]\n",
    "            if not matched_candidates.empty and len(matched_candidates)>1:\n",
    "                selected_row = select_best_message(\n",
    "                    matched_candidates,\n",
    "                    row[\"symptom_label\"],\n",
    "                    row[\"message\"],\n",
    "                    tp.PATTERN_DICT\n",
    "                )\n",
    "\n",
    "                if selected_row is not None:\n",
    "                    sn_group.at[idx, \"name\"] = selected_row[\"category\"]\n",
    "        except Exception as e:\n",
    "            pass\n",
    "    return sn_group\n",
    "def select_best_message(msg_ref_qs, failure_label, symptom_msg, pattern_dict=None):\n",
    "    # Step 1: Exact match\n",
    "    for idx, row in msg_ref_qs.iterrows():\n",
    "        if row['message'].strip() == symptom_msg.strip():\n",
    "            return row\n",
    "    # Step 2: Get patterns from matched label in pattern dict\n",
    "    if pattern_dict and failure_label in pattern_dict:\n",
    "        patterns = pattern_dict[failure_label](symptom_msg) \\\n",
    "            if callable(pattern_dict[failure_label]) else pattern_dict[failure_label]\n",
    "    else:\n",
    "        patterns = []\n",
    "    # Step 3: Check if any pattern matches\n",
    "    for pattern in patterns:\n",
    "        if re.search(pattern, symptom_msg, re.IGNORECASE | re.DOTALL):\n",
    "            # Pattern matched the input — now match it in suggestion\n",
    "            for idx, row in msg_ref_qs.iterrows():\n",
    "                if re.search(pattern, row.message, re.IGNORECASE | re.DOTALL):\n",
    "                    return row\n",
    "\n",
    "    return msg_ref_qs[0]\n"
   ]
  },
  {
   "cell_type": "markdown",
   "metadata": {},
   "source": [
    "### Clean data\n",
    "1. Create serial number group\n",
    "2. Processs rows with failed test (test_result = 0) + symptom_info = dict & at least 1 record + repaired_date before 2025-05-07(date start to save record)\n",
    "3. For rows without symptom_label, use failure_description to match symptom_label in symptom_info, stored symptom_label and symptom_message for the first match, otherwise NA"
   ]
  },
  {
   "cell_type": "code",
   "execution_count": 16,
   "metadata": {},
   "outputs": [],
   "source": [
    "result_df_list = []\n",
    "\n",
    "for sn, group in repair_df.groupby('serial_number'):\n",
    "    processed = process_sn_group(group, cat_df)\n",
    "    result_df_list.append(processed)\n",
    "\n",
    "final_df = pd.concat(result_df_list, ignore_index=True)\n"
   ]
  },
  {
   "cell_type": "markdown",
   "metadata": {},
   "source": [
    "Remove units with repair records are not assigned category"
   ]
  },
  {
   "cell_type": "code",
   "execution_count": 18,
   "metadata": {},
   "outputs": [
    {
     "ename": "KeyError",
     "evalue": "\"['testing_date'] not in index\"",
     "output_type": "error",
     "traceback": [
      "\u001b[1;31m---------------------------------------------------------------------------\u001b[0m",
      "\u001b[1;31mKeyError\u001b[0m                                  Traceback (most recent call last)",
      "Cell \u001b[1;32mIn[18], line 4\u001b[0m\n\u001b[0;32m      2\u001b[0m drop_sn \u001b[38;5;241m=\u001b[39m final_df[(final_df[\u001b[38;5;124m'\u001b[39m\u001b[38;5;124mtest_result\u001b[39m\u001b[38;5;124m'\u001b[39m]\u001b[38;5;241m==\u001b[39m\u001b[38;5;241m0\u001b[39m)\u001b[38;5;241m&\u001b[39m(final_df\u001b[38;5;241m.\u001b[39mname\u001b[38;5;241m.\u001b[39misna())]\u001b[38;5;241m.\u001b[39mserial_number\u001b[38;5;241m.\u001b[39munique()\n\u001b[0;32m      3\u001b[0m selected_cols \u001b[38;5;241m=\u001b[39m [\u001b[38;5;124m\"\u001b[39m\u001b[38;5;124mserial_number\u001b[39m\u001b[38;5;124m\"\u001b[39m, \u001b[38;5;124m\"\u001b[39m\u001b[38;5;124mproduction_version\u001b[39m\u001b[38;5;124m\"\u001b[39m, \u001b[38;5;124m\"\u001b[39m\u001b[38;5;124mstation\u001b[39m\u001b[38;5;124m\"\u001b[39m, \u001b[38;5;124m\"\u001b[39m\u001b[38;5;124mtesting_date\u001b[39m\u001b[38;5;124m\"\u001b[39m, \u001b[38;5;124m\"\u001b[39m\u001b[38;5;124mrepaired_date\u001b[39m\u001b[38;5;124m\"\u001b[39m, \u001b[38;5;124m\"\u001b[39m\u001b[38;5;124mtest_result\u001b[39m\u001b[38;5;124m\"\u001b[39m, \u001b[38;5;124m\"\u001b[39m\u001b[38;5;124mrepair_result\u001b[39m\u001b[38;5;124m\"\u001b[39m, \u001b[38;5;124m\"\u001b[39m\u001b[38;5;124msymptom_label\u001b[39m\u001b[38;5;124m\"\u001b[39m, \u001b[38;5;124m\"\u001b[39m\u001b[38;5;124mmessage\u001b[39m\u001b[38;5;124m\"\u001b[39m, \u001b[38;5;124m\"\u001b[39m\u001b[38;5;124mname\u001b[39m\u001b[38;5;124m\"\u001b[39m]\n\u001b[1;32m----> 4\u001b[0m clean_repair_df \u001b[38;5;241m=\u001b[39m \u001b[43mfinal_df\u001b[49m\u001b[43m[\u001b[49m\u001b[43m(\u001b[49m\u001b[38;5;241;43m~\u001b[39;49m\u001b[43mfinal_df\u001b[49m\u001b[38;5;241;43m.\u001b[39;49m\u001b[43mserial_number\u001b[49m\u001b[38;5;241;43m.\u001b[39;49m\u001b[43misin\u001b[49m\u001b[43m(\u001b[49m\u001b[43mdrop_sn\u001b[49m\u001b[43m)\u001b[49m\u001b[43m)\u001b[49m\u001b[43m]\u001b[49m\u001b[38;5;241;43m.\u001b[39;49m\u001b[43mreset_index\u001b[49m\u001b[43m(\u001b[49m\u001b[43mdrop\u001b[49m\u001b[38;5;241;43m=\u001b[39;49m\u001b[38;5;28;43;01mTrue\u001b[39;49;00m\u001b[43m)\u001b[49m\u001b[43m[\u001b[49m\u001b[43mselected_cols\u001b[49m\u001b[43m]\u001b[49m\u001b[38;5;241m.\u001b[39mdrop_duplicates()\n",
      "File \u001b[1;32mc:\\Users\\Le-Hao.Hsu\\OneDrive - Foxconn Industrial Internet in North America\\Desktop\\Gavin\\cims_test\\test\\lib\\site-packages\\pandas\\core\\frame.py:4108\u001b[0m, in \u001b[0;36mDataFrame.__getitem__\u001b[1;34m(self, key)\u001b[0m\n\u001b[0;32m   4106\u001b[0m     \u001b[38;5;28;01mif\u001b[39;00m is_iterator(key):\n\u001b[0;32m   4107\u001b[0m         key \u001b[38;5;241m=\u001b[39m \u001b[38;5;28mlist\u001b[39m(key)\n\u001b[1;32m-> 4108\u001b[0m     indexer \u001b[38;5;241m=\u001b[39m \u001b[38;5;28;43mself\u001b[39;49m\u001b[38;5;241;43m.\u001b[39;49m\u001b[43mcolumns\u001b[49m\u001b[38;5;241;43m.\u001b[39;49m\u001b[43m_get_indexer_strict\u001b[49m\u001b[43m(\u001b[49m\u001b[43mkey\u001b[49m\u001b[43m,\u001b[49m\u001b[43m \u001b[49m\u001b[38;5;124;43m\"\u001b[39;49m\u001b[38;5;124;43mcolumns\u001b[39;49m\u001b[38;5;124;43m\"\u001b[39;49m\u001b[43m)\u001b[49m[\u001b[38;5;241m1\u001b[39m]\n\u001b[0;32m   4110\u001b[0m \u001b[38;5;66;03m# take() does not accept boolean indexers\u001b[39;00m\n\u001b[0;32m   4111\u001b[0m \u001b[38;5;28;01mif\u001b[39;00m \u001b[38;5;28mgetattr\u001b[39m(indexer, \u001b[38;5;124m\"\u001b[39m\u001b[38;5;124mdtype\u001b[39m\u001b[38;5;124m\"\u001b[39m, \u001b[38;5;28;01mNone\u001b[39;00m) \u001b[38;5;241m==\u001b[39m \u001b[38;5;28mbool\u001b[39m:\n",
      "File \u001b[1;32mc:\\Users\\Le-Hao.Hsu\\OneDrive - Foxconn Industrial Internet in North America\\Desktop\\Gavin\\cims_test\\test\\lib\\site-packages\\pandas\\core\\indexes\\base.py:6200\u001b[0m, in \u001b[0;36mIndex._get_indexer_strict\u001b[1;34m(self, key, axis_name)\u001b[0m\n\u001b[0;32m   6197\u001b[0m \u001b[38;5;28;01melse\u001b[39;00m:\n\u001b[0;32m   6198\u001b[0m     keyarr, indexer, new_indexer \u001b[38;5;241m=\u001b[39m \u001b[38;5;28mself\u001b[39m\u001b[38;5;241m.\u001b[39m_reindex_non_unique(keyarr)\n\u001b[1;32m-> 6200\u001b[0m \u001b[38;5;28;43mself\u001b[39;49m\u001b[38;5;241;43m.\u001b[39;49m\u001b[43m_raise_if_missing\u001b[49m\u001b[43m(\u001b[49m\u001b[43mkeyarr\u001b[49m\u001b[43m,\u001b[49m\u001b[43m \u001b[49m\u001b[43mindexer\u001b[49m\u001b[43m,\u001b[49m\u001b[43m \u001b[49m\u001b[43maxis_name\u001b[49m\u001b[43m)\u001b[49m\n\u001b[0;32m   6202\u001b[0m keyarr \u001b[38;5;241m=\u001b[39m \u001b[38;5;28mself\u001b[39m\u001b[38;5;241m.\u001b[39mtake(indexer)\n\u001b[0;32m   6203\u001b[0m \u001b[38;5;28;01mif\u001b[39;00m \u001b[38;5;28misinstance\u001b[39m(key, Index):\n\u001b[0;32m   6204\u001b[0m     \u001b[38;5;66;03m# GH 42790 - Preserve name from an Index\u001b[39;00m\n",
      "File \u001b[1;32mc:\\Users\\Le-Hao.Hsu\\OneDrive - Foxconn Industrial Internet in North America\\Desktop\\Gavin\\cims_test\\test\\lib\\site-packages\\pandas\\core\\indexes\\base.py:6252\u001b[0m, in \u001b[0;36mIndex._raise_if_missing\u001b[1;34m(self, key, indexer, axis_name)\u001b[0m\n\u001b[0;32m   6249\u001b[0m     \u001b[38;5;28;01mraise\u001b[39;00m \u001b[38;5;167;01mKeyError\u001b[39;00m(\u001b[38;5;124mf\u001b[39m\u001b[38;5;124m\"\u001b[39m\u001b[38;5;124mNone of [\u001b[39m\u001b[38;5;132;01m{\u001b[39;00mkey\u001b[38;5;132;01m}\u001b[39;00m\u001b[38;5;124m] are in the [\u001b[39m\u001b[38;5;132;01m{\u001b[39;00maxis_name\u001b[38;5;132;01m}\u001b[39;00m\u001b[38;5;124m]\u001b[39m\u001b[38;5;124m\"\u001b[39m)\n\u001b[0;32m   6251\u001b[0m not_found \u001b[38;5;241m=\u001b[39m \u001b[38;5;28mlist\u001b[39m(ensure_index(key)[missing_mask\u001b[38;5;241m.\u001b[39mnonzero()[\u001b[38;5;241m0\u001b[39m]]\u001b[38;5;241m.\u001b[39munique())\n\u001b[1;32m-> 6252\u001b[0m \u001b[38;5;28;01mraise\u001b[39;00m \u001b[38;5;167;01mKeyError\u001b[39;00m(\u001b[38;5;124mf\u001b[39m\u001b[38;5;124m\"\u001b[39m\u001b[38;5;132;01m{\u001b[39;00mnot_found\u001b[38;5;132;01m}\u001b[39;00m\u001b[38;5;124m not in index\u001b[39m\u001b[38;5;124m\"\u001b[39m)\n",
      "\u001b[1;31mKeyError\u001b[0m: \"['testing_date'] not in index\""
     ]
    }
   ],
   "source": [
    "# Clean data!\n",
    "drop_sn = final_df[(final_df['test_result']==0)&(final_df.name.isna())].serial_number.unique()\n",
    "selected_cols = [\"serial_number\", \"production_version\", \"station\", \"testing_date\", \"repaired_date\", \"test_result\", \"repair_result\", \"symptom_label\", \"message\", \"name\"]\n",
    "clean_repair_df = final_df[(~final_df.serial_number.isin(drop_sn))].reset_index(drop=True)[selected_cols].drop_duplicates()"
   ]
  },
  {
   "cell_type": "markdown",
   "metadata": {},
   "source": [
    "Compare the implementation of category by separating data to \n",
    "\n",
    "* **BEFORE**: repair date between 2025/03/15 - 2025/04/15\n",
    "* **AFTER**: repair date after 2025/05/03 (include the first pass record after the last repair record)"
   ]
  },
  {
   "cell_type": "code",
   "execution_count": 338,
   "metadata": {},
   "outputs": [],
   "source": [
    "before_df = clean_repair_df[(clean_repair_df['repaired_date']<'2025-04-15')&(clean_repair_df['repaired_date']>='2025-03-15')]\n",
    "after_rows = []\n",
    "\n",
    "for sn, group in clean_repair_df.groupby('serial_number'):\n",
    "    # Already in chronological order\n",
    "    start_idx = group[group['repaired_date'] >= '2025-05-03'].index\n",
    "    if len(start_idx) == 0:\n",
    "        continue\n",
    "\n",
    "    start = start_idx[0]\n",
    "    sub_group = group.loc[start:]\n",
    "    \n",
    "    # Stop at first NaT repaired_date (inclusive)\n",
    "    stop_idx = sub_group[sub_group['repaired_date'].isna()].index\n",
    "    if len(stop_idx) > 0:\n",
    "        end = stop_idx[0]\n",
    "        after_rows.append(sub_group.loc[:end])\n",
    "    else:\n",
    "        after_rows.append(sub_group)\n",
    "\n",
    "# Combine\n",
    "after_df = pd.concat(after_rows, ignore_index=True)\n",
    "\n"
   ]
  },
  {
   "cell_type": "code",
   "execution_count": 359,
   "metadata": {},
   "outputs": [
    {
     "data": {
      "text/plain": [
       "(4177, 4966)"
      ]
     },
     "execution_count": 359,
     "metadata": {},
     "output_type": "execute_result"
    }
   ],
   "source": [
    "len(before_df.serial_number.unique()), len(after_df.serial_number.unique())"
   ]
  },
  {
   "cell_type": "code",
   "execution_count": 340,
   "metadata": {},
   "outputs": [],
   "source": [
    "hybrid_sn = (set(before_df.serial_number.unique()) & set(after_df.serial_number.unique()))"
   ]
  },
  {
   "cell_type": "code",
   "execution_count": 343,
   "metadata": {},
   "outputs": [],
   "source": [
    "hybrid_prev_df = before_df[before_df.serial_number.isin(hybrid_sn)]\n",
    "hybrid_post_df = after_df[after_df.serial_number.isin(hybrid_sn)]"
   ]
  },
  {
   "cell_type": "code",
   "execution_count": 345,
   "metadata": {},
   "outputs": [
    {
     "name": "stdout",
     "output_type": "stream",
     "text": [
      "[SAMPLED] Average repair loops BEFORE 2025-04-15: 2.16\n",
      "          Average repair loops AFTER  2025-04-15: 1.56\n"
     ]
    }
   ],
   "source": [
    "# Count number of loops per SN\n",
    "hybrid_prev_df['is_loop'] = hybrid_prev_df['test_result'] == 0 \n",
    "hybrid_post_df['is_loop'] = hybrid_post_df['test_result'] == 0\n",
    "\n",
    "# Count number of loops per SN\n",
    "loop_counts_before = hybrid_prev_df[hybrid_prev_df['is_loop']].groupby('serial_number').size()\n",
    "loop_counts_after = hybrid_post_df[hybrid_post_df['is_loop']].groupby('serial_number').size()\n",
    "\n",
    "min_len = min(len(loop_counts_before), len(loop_counts_after))\n",
    "\n",
    "sampled_loop_counts_before = loop_counts_before.sample(n=min_len)\n",
    "sampled_loop_counts_after = loop_counts_after.sample(n=min_len)\n",
    "# Compute the averages using matched sample sizes\n",
    "avg_loops_before = sampled_loop_counts_before.mean()\n",
    "avg_loops_after = sampled_loop_counts_after.mean()\n",
    "print(f\"[SAMPLED] Average repair loops BEFORE 2025-04-15: {avg_loops_before:.2f}\")\n",
    "print(f\"          Average repair loops AFTER  2025-04-15: {avg_loops_after:.2f}\")"
   ]
  },
  {
   "cell_type": "code",
   "execution_count": 348,
   "metadata": {},
   "outputs": [
    {
     "name": "stdout",
     "output_type": "stream",
     "text": [
      "Average Resolution Time BEFORE: 97.26 hrs\n",
      "Average Resolution Time AFTER : 46.74 hrs\n"
     ]
    }
   ],
   "source": [
    "def compute_resolution_before(group):\n",
    "    if len(group) == 1:\n",
    "        return None\n",
    "    else:\n",
    "        first_test = group.iloc[0]['repaired_date']\n",
    "        last_repair = group['repaired_date'].iloc[-1]\n",
    "        return (last_repair - first_test).total_seconds() / 3600\n",
    "\n",
    "def compute_resolution_after(group):\n",
    "    first_repair = group.iloc[0]['repaired_date']\n",
    "    last_test = group.iloc[-1]['testing_date']\n",
    "    return (last_test - first_repair).total_seconds() / 3600\n",
    "\n",
    "\n",
    "hybrid_prev_df['testing_date'] = pd.to_datetime(hybrid_prev_df['testing_date'])\n",
    "hybrid_prev_df['repaired_date'] = pd.to_datetime(hybrid_prev_df['repaired_date'])\n",
    "resolution_times_before = hybrid_prev_df.groupby('serial_number').apply(compute_resolution_before).dropna()\n",
    "\n",
    "hybrid_post_df['testing_date'] = pd.to_datetime(hybrid_post_df['testing_date'])\n",
    "hybrid_post_df['repaired_date'] = pd.to_datetime(hybrid_post_df['repaired_date'])\n",
    "resolution_times_after = hybrid_post_df.groupby('serial_number').apply(compute_resolution_after).dropna()\n",
    "\n",
    "min_len = min(len(resolution_times_before), len(resolution_times_after))\n",
    "\n",
    "sampled_before = resolution_times_before.sample(n=min_len)\n",
    "sampled_after = resolution_times_after.sample(n=min_len)\n",
    "print(f\"Average Resolution Time BEFORE: {sampled_before.mean():.2f} hrs\")\n",
    "print(f\"Average Resolution Time AFTER : {sampled_after.mean():.2f} hrs\")"
   ]
  },
  {
   "cell_type": "code",
   "execution_count": 349,
   "metadata": {},
   "outputs": [
    {
     "name": "stdout",
     "output_type": "stream",
     "text": [
      "[SAMPLED] Average repair loops BEFORE 2025-04-15: 1.53\n",
      "          Average repair loops AFTER  2025-04-15: 1.39\n"
     ]
    }
   ],
   "source": [
    "# Count number of loops per SN\n",
    "before_df['is_loop'] = before_df['test_result'] == 0 \n",
    "after_df['is_loop'] = after_df['test_result'] == 0\n",
    "\n",
    "# Count number of loops per SN\n",
    "loop_counts_before = before_df[before_df['is_loop']].groupby('serial_number').size()\n",
    "loop_counts_after = after_df[after_df['is_loop']].groupby('serial_number').size()\n",
    "\n",
    "min_len = min(len(loop_counts_before), len(loop_counts_after))\n",
    "\n",
    "sampled_loop_counts_before = loop_counts_before.sample(n=min_len)\n",
    "sampled_loop_counts_after = loop_counts_after.sample(n=min_len)\n",
    "# Compute the averages using matched sample sizes\n",
    "avg_loops_before = sampled_loop_counts_before.mean()\n",
    "avg_loops_after = sampled_loop_counts_after.mean()\n",
    "print(f\"[SAMPLED] Average repair loops BEFORE 2025-04-15: {avg_loops_before:.2f}\")\n",
    "print(f\"          Average repair loops AFTER  2025-04-15: {avg_loops_after:.2f}\")"
   ]
  },
  {
   "cell_type": "code",
   "execution_count": 350,
   "metadata": {},
   "outputs": [
    {
     "data": {
      "image/png": "[encoded data removed]",
      "text/plain": [
       "<Figure size 640x480 with 1 Axes>"
      ]
     },
     "metadata": {},
     "output_type": "display_data"
    }
   ],
   "source": [
    "plt.boxplot([sampled_loop_counts_before, sampled_loop_counts_after], labels=['Before', 'After'])\n",
    "plt.title(\"Repair Loop Count per SN\")\n",
    "plt.ylabel(\"Loop Count\")\n",
    "plt.show()"
   ]
  },
  {
   "cell_type": "code",
   "execution_count": 351,
   "metadata": {},
   "outputs": [
    {
     "data": {
      "image/png": "[encoded data removed]",
      "text/plain": [
       "<Figure size 640x480 with 1 Axes>"
      ]
     },
     "metadata": {},
     "output_type": "display_data"
    }
   ],
   "source": [
    "plt.hist(sampled_loop_counts_before, bins=10, alpha=0.5, label='Before')\n",
    "plt.hist(sampled_loop_counts_after, bins=10, alpha=0.5, label='After')\n",
    "plt.legend()\n",
    "plt.title(\"Repair Loop Distribution\")\n",
    "plt.xlabel(\"Loop Count\")\n",
    "plt.ylabel(\"Number of SNs\")\n",
    "plt.show()\n"
   ]
  },
  {
   "cell_type": "code",
   "execution_count": 352,
   "metadata": {},
   "outputs": [
    {
     "name": "stdout",
     "output_type": "stream",
     "text": [
      "Average Resolution Time BEFORE: 80.63 hrs\n",
      "Average Resolution Time AFTER : 16.26 hrs\n"
     ]
    }
   ],
   "source": [
    "def compute_resolution_before(group):\n",
    "    if len(group) == 1:\n",
    "        return None\n",
    "    else:\n",
    "        first_test = group.iloc[0]['repaired_date']\n",
    "        last_repair = group['repaired_date'].iloc[-1]\n",
    "        return (last_repair - first_test).total_seconds() / 3600\n",
    "\n",
    "def compute_resolution_after(group):\n",
    "    first_repair = group.iloc[0]['repaired_date']\n",
    "    last_test = group.iloc[-1]['testing_date']\n",
    "    return (last_test - first_repair).total_seconds() / 3600\n",
    "\n",
    "\n",
    "after_df['testing_date'] = pd.to_datetime(after_df['testing_date'])\n",
    "after_df['repaired_date'] = pd.to_datetime(after_df['repaired_date'])\n",
    "resolution_times_after = after_df.groupby('serial_number').apply(compute_resolution_after).dropna()\n",
    "\n",
    "before_df['testing_date'] = pd.to_datetime(before_df['testing_date'])\n",
    "before_df['repaired_date'] = pd.to_datetime(before_df['repaired_date'])\n",
    "resolution_times_before = before_df.groupby('serial_number').apply(compute_resolution_before).dropna()\n",
    "\n",
    "min_len = min(len(resolution_times_before), len(resolution_times_after))\n",
    "\n",
    "sampled_before = resolution_times_before.sample(n=min_len)\n",
    "sampled_after = resolution_times_after.sample(n=min_len)\n",
    "print(f\"Average Resolution Time BEFORE: {sampled_before.mean():.2f} hrs\")\n",
    "print(f\"Average Resolution Time AFTER : {sampled_after.mean():.2f} hrs\")"
   ]
  },
  {
   "cell_type": "code",
   "execution_count": 355,
   "metadata": {},
   "outputs": [
    {
     "name": "stdout",
     "output_type": "stream",
     "text": [
      "Mann–Whitney U test p-value: 0.0000\n"
     ]
    }
   ],
   "source": [
    "from scipy.stats import mannwhitneyu\n",
    "\n",
    "stat, p_value = mannwhitneyu(resolution_times_before, resolution_times_after, alternative='two-sided')\n",
    "print(f\"Mann–Whitney U test p-value: {p_value:.4f}\")"
   ]
  },
  {
   "cell_type": "code",
   "execution_count": 362,
   "metadata": {},
   "outputs": [
    {
     "data": {
      "image/png": "[encoded data removed]",
      "text/plain": [
       "<Figure size 1200x600 with 1 Axes>"
      ]
     },
     "metadata": {},
     "output_type": "display_data"
    }
   ],
   "source": [
    "import seaborn as sns\n",
    "from scipy.stats import mannwhitneyu\n",
    "import numpy as np\n",
    "import matplotlib.pyplot as plt\n",
    "# Calculate mean and median\n",
    "mean_before = resolution_times_before.mean()\n",
    "mean_after = resolution_times_after.mean()\n",
    "median_before = np.median(resolution_times_before)\n",
    "median_after = np.median(resolution_times_after)\n",
    "\n",
    "# Perform Mann–Whitney U test\n",
    "stat, p_value = mannwhitneyu(resolution_times_before, resolution_times_after, alternative='greater')\n",
    "\n",
    "# Compute % of SNs resolved within 24h\n",
    "within_24h_before = (resolution_times_before <= 24).mean() * 100\n",
    "within_24h_after = (resolution_times_after <= 24).mean() * 100\n",
    "\n",
    "# Plot\n",
    "plt.figure(figsize=(12, 6))\n",
    "sns.histplot(resolution_times_before, bins=50, color='steelblue', label='Before', stat='density', kde=False, alpha=0.6)\n",
    "sns.histplot(resolution_times_after, bins=50, color='darkorange', label='After', stat='density', kde=False, alpha=0.6)\n",
    "\n",
    "# Labels\n",
    "plt.title(f'Distribution of Repair Resolution Time\\nMann–Whitney U p-value = {p_value:.4f}')\n",
    "plt.xlabel('Hours to Resolve')\n",
    "plt.ylabel('Density')\n",
    "plt.legend()\n",
    "plt.grid(True)\n",
    "plt.tight_layout()\n",
    "plt.show()\n",
    "\n",
    "# Create summary table\n",
    "summary = pd.DataFrame({\n",
    "    'Group': ['Before', 'After'],\n",
    "    'Mean (h)': [mean_before, mean_after],\n",
    "    'Median (h)': [median_before, median_after],\n",
    "    'Resolved ≤24h (%)': [within_24h_before, within_24h_after]\n",
    "})\n"
   ]
  },
  {
   "cell_type": "code",
   "execution_count": 358,
   "metadata": {},
   "outputs": [
    {
     "data": {
      "text/html": [
       "<div>\n",
       "<style scoped>\n",
       "    .dataframe tbody tr th:only-of-type {\n",
       "        vertical-align: middle;\n",
       "    }\n",
       "\n",
       "    .dataframe tbody tr th {\n",
       "        vertical-align: top;\n",
       "    }\n",
       "\n",
       "    .dataframe thead th {\n",
       "        text-align: right;\n",
       "    }\n",
       "</style>\n",
       "<table border=\"1\" class=\"dataframe\">\n",
       "  <thead>\n",
       "    <tr style=\"text-align: right;\">\n",
       "      <th></th>\n",
       "      <th>Group</th>\n",
       "      <th>Mean (h)</th>\n",
       "      <th>Median (h)</th>\n",
       "      <th>Resolved ≤24h (%)</th>\n",
       "    </tr>\n",
       "  </thead>\n",
       "  <tbody>\n",
       "    <tr>\n",
       "      <th>0</th>\n",
       "      <td>Before</td>\n",
       "      <td>80.627947</td>\n",
       "      <td>24.802083</td>\n",
       "      <td>49.007634</td>\n",
       "    </tr>\n",
       "    <tr>\n",
       "      <th>1</th>\n",
       "      <td>After</td>\n",
       "      <td>16.155154</td>\n",
       "      <td>3.150972</td>\n",
       "      <td>88.099074</td>\n",
       "    </tr>\n",
       "  </tbody>\n",
       "</table>\n",
       "</div>"
      ],
      "text/plain": [
       "    Group   Mean (h)  Median (h)  Resolved ≤24h (%)\n",
       "0  Before  80.627947   24.802083          49.007634\n",
       "1   After  16.155154    3.150972          88.099074"
      ]
     },
     "execution_count": 358,
     "metadata": {},
     "output_type": "execute_result"
    }
   ],
   "source": [
    "summary"
   ]
  }
 ],
 "metadata": {
  "kernelspec": {
   "display_name": "test",
   "language": "python",
   "name": "python3"
  },
  "language_info": {
   "codemirror_mode": {
    "name": "ipython",
    "version": 3
   },
   "file_extension": ".py",
   "mimetype": "text/x-python",
   "name": "python",
   "nbconvert_exporter": "python",
   "pygments_lexer": "ipython3",
   "version": "3.9.0"
  }
 },
 "nbformat": 4,
 "nbformat_minor": 2
}
