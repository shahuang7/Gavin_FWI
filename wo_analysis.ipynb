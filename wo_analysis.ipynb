{
 "cells": [
  {
   "cell_type": "code",
   "execution_count": 3,
   "metadata": {},
   "outputs": [
    {
     "name": "stdout",
     "output_type": "stream",
     "text": [
      "C:\\Users\\Le-Hao.Hsu\\OneDrive - Foxconn Industrial Internet in North America\\Desktop\\Gavin\\Supply Chain\\supply_chain_system\\core\\config\n"
     ]
    }
   ],
   "source": [
    "import pandas as pd\n",
    "import sys\n",
    "sys.path.append('../utils') \n",
    "import helper_function as hf"
   ]
  },
  {
   "cell_type": "code",
   "execution_count": 4,
   "metadata": {},
   "outputs": [],
   "source": [
    "# Query the workorders that is Athena GA and all serial numbers (products) are shipped\n",
    "wo_query = '''\n",
    "SELECT sn.workorder_id\n",
    "FROM manufacturing_serialnumber sn\n",
    "JOIN manufacturing_workorder wo ON sn.workorder_id = wo.workorder_id\n",
    "WHERE wo.model_name = 'ATHENA' AND build_type = 'GA'\n",
    "GROUP BY sn.workorder_id\n",
    "HAVING COUNT(*) = COUNT(CASE WHEN sn.shipped = 1 THEN 1 END)\n",
    "'''\n",
    "\n",
    "athena_shipped_wo = tuple(hf.db_connect(wo_query)['workorder_id'])"
   ]
  },
  {
   "cell_type": "code",
   "execution_count": 5,
   "metadata": {},
   "outputs": [],
   "source": [
    "# Query the Athena's workorders\n",
    "wo_result_query = f'''\n",
    "        SELECT wo.workorder_id, wo.skuno, wo.sap_create_date, wo.sap_release_date, wo.target_qty, wo.finished_qty \n",
    "        FROM manufacturing_workorder wo\n",
    "        WHERE wo.workorder_id IN {athena_shipped_wo}\n",
    "'''\n",
    "athena_shipped_wo_df = hf.db_connect(wo_result_query)"
   ]
  },
  {
   "cell_type": "code",
   "execution_count": 6,
   "metadata": {},
   "outputs": [],
   "source": [
    "# Query the Athena's workorder details\n",
    "wo_detail_query = f'''\n",
    "                SELECT wd.workorder_id, wd.model_id, wd.parent_skuno, wd.required_qty, wd.storage_location, \n",
    "                wd.usage_probability_alt_item, wd.keypart_group, wd.manufacturer, wd.manufacturer_pn\n",
    "                FROM manufacturing_workorderdetail wd\n",
    "                WHERE wd.workorder_id IN {athena_shipped_wo}\n",
    "'''\n",
    "athena_shipped_wo_detail_df = hf.db_connect(wo_detail_query)"
   ]
  },
  {
   "cell_type": "code",
   "execution_count": 7,
   "metadata": {},
   "outputs": [],
   "source": [
    "# Query the Athena's serial numbers\n",
    "sn_list_query = f'''\n",
    "                SELECT sn.workorder_id, sn.serial_number, sn.generated_date, sn.complete_date, sn.pack_date, sn.ship_date, \n",
    "                        sn.station_id, sn.completed, sn.shipped\n",
    "                FROM manufacturing_serialnumber sn \n",
    "                WHERE sn.workorder_id IN {athena_shipped_wo}\n",
    "'''\n",
    "athena_shipped_sn_df = hf.db_connect(sn_list_query)\n",
    "athena_shipped_sn_list = tuple(athena_shipped_sn_df.serial_number)"
   ]
  },
  {
   "cell_type": "code",
   "execution_count": 8,
   "metadata": {},
   "outputs": [
    {
     "name": "stderr",
     "output_type": "stream",
     "text": [
      "C:\\Users\\Le-Hao.Hsu\\AppData\\Local\\Temp\\ipykernel_24152\\3609007128.py:12: FutureWarning: DataFrameGroupBy.apply operated on the grouping columns. This behavior is deprecated, and in a future version of pandas the grouping columns will be excluded from the operation. Either pass `include_groups=False` to exclude the groupings or explicitly select the grouping columns after groupby to silence this warning.\n",
      "  filtered[[\"workorder_id\", \"model_id\", \"required_qty\"]]\n"
     ]
    }
   ],
   "source": [
    "# Step 1: Merge SN with WO to get skuno for each SN\n",
    "sn_wo_df = athena_shipped_sn_df[[\"workorder_id\", \"serial_number\", \"pack_date\", \"ship_date\"]].merge(\n",
    "    athena_shipped_wo_df,\n",
    "    on=\"workorder_id\",\n",
    "    how=\"left\"\n",
    ")\n",
    "\n",
    "# Step 2: Attach model_id list to each WO, exclude qty = 0 and gather model_id: qty dict\n",
    "filtered = athena_shipped_wo_detail_df[athena_shipped_wo_detail_df[\"required_qty\"] > 0]\n",
    "\n",
    "wo_detail_grouped = (\n",
    "    filtered[[\"workorder_id\", \"model_id\", \"required_qty\"]]\n",
    "    .groupby(\"workorder_id\")\n",
    "    .apply(lambda g: g[[\"model_id\", \"required_qty\"]].to_dict(orient=\"records\"))\n",
    "    .reset_index(name=\"model_usage\")\n",
    ")\n",
    "\n",
    "sn_wo_model_df = sn_wo_df.merge(wo_detail_grouped, on=\"workorder_id\", how=\"left\")\n",
    "\n",
    "# Step 3: Calculate days to complete\n",
    "date_cols = [\"pack_date\", \"ship_date\", \"sap_release_date\"]\n",
    "sn_wo_model_df[date_cols] = sn_wo_model_df[date_cols].apply(lambda col: pd.to_datetime(col.astype(str).str[:19]))\n",
    "sn_wo_model_df[\"days_to_pack\"] = (sn_wo_model_df[\"pack_date\"] - sn_wo_model_df[\"sap_release_date\"]).dt.total_seconds() / (3600 * 24)\n",
    "sn_wo_model_df[\"days_to_ship\"] = (sn_wo_model_df[\"ship_date\"] - sn_wo_model_df[\"sap_release_date\"]).dt.total_seconds() / (3600 * 24)"
   ]
  },
  {
   "cell_type": "code",
   "execution_count": 9,
   "metadata": {},
   "outputs": [],
   "source": [
    "# Query Athena's Gulp serial_number assembly log\n",
    "athena_gulp_sn_log_query = f'''\n",
    "WITH selected_sn AS (\n",
    "    SELECT sn.serial_number, sn.workorder_id\n",
    "    FROM manufacturing_serialnumber sn\n",
    "    WHERE sn.workorder_id IN {athena_shipped_wo}\n",
    "),\n",
    "valid_wo_detail AS (\n",
    "    SELECT wd.row_id\n",
    "    FROM manufacturing_workorderdetail wd\n",
    "    WHERE wd.workorder_id IN {athena_shipped_wo}\n",
    "      AND wd.required_qty != 0\n",
    "      AND wd.keypart_group = 'MG35'\n",
    "),\n",
    "target_keypart_serial AS (\n",
    "    SELECT kpd.value AS keypart_serial_number, sn.serial_number AS source_serial_number, sn.workorder_id\n",
    "    FROM manufacturing_keypart kp\n",
    "    JOIN valid_wo_detail wd ON kp.wo_detail_id = wd.row_id\n",
    "    JOIN selected_sn sn ON kp.serialnumber_id = sn.serial_number\n",
    "    JOIN manufacturing_keypartdata kpd ON kp.row_id = kpd.keypart_id\n",
    "    WHERE kpd.field_id = 1\n",
    "),\n",
    "final_log AS (\n",
    "    SELECT tks.workorder_id AS source_workorder_id, tks.source_serial_number, \n",
    "        l10.serial_number, l10.model_name, l10.model_id, l10.workorder_id, l10.line, l10.from_station, \n",
    "        l10.to_station, l10.in_station_time, l10.out_station_time, l10.result, l10.station_type, l10.attempt\n",
    "    FROM manufacturing_l10serialnumberlog l10\n",
    "    JOIN target_keypart_serial tks ON l10.serial_number = tks.keypart_serial_number\n",
    ")\n",
    "SELECT * FROM final_log;\n",
    "\n",
    "'''\n",
    "\n",
    "athena_gulp_sn_log_df = hf.db_connect(athena_gulp_sn_log_query)"
   ]
  },
  {
   "cell_type": "code",
   "execution_count": 10,
   "metadata": {},
   "outputs": [
    {
     "data": {
      "text/html": [
       "<div>\n",
       "<style scoped>\n",
       "    .dataframe tbody tr th:only-of-type {\n",
       "        vertical-align: middle;\n",
       "    }\n",
       "\n",
       "    .dataframe tbody tr th {\n",
       "        vertical-align: top;\n",
       "    }\n",
       "\n",
       "    .dataframe thead th {\n",
       "        text-align: right;\n",
       "    }\n",
       "</style>\n",
       "<table border=\"1\" class=\"dataframe\">\n",
       "  <thead>\n",
       "    <tr style=\"text-align: right;\">\n",
       "      <th></th>\n",
       "      <th>source_workorder_id</th>\n",
       "      <th>source_serial_number</th>\n",
       "      <th>serial_number</th>\n",
       "      <th>model_name</th>\n",
       "      <th>model_id</th>\n",
       "      <th>workorder_id</th>\n",
       "      <th>line</th>\n",
       "      <th>from_station</th>\n",
       "      <th>to_station</th>\n",
       "      <th>in_station_time</th>\n",
       "      <th>out_station_time</th>\n",
       "      <th>result</th>\n",
       "      <th>station_type</th>\n",
       "      <th>attempt</th>\n",
       "    </tr>\n",
       "  </thead>\n",
       "  <tbody>\n",
       "    <tr>\n",
       "      <th>31594</th>\n",
       "      <td>000007010384</td>\n",
       "      <td>FWI2516-14432</td>\n",
       "      <td>IPBFWI251500743</td>\n",
       "      <td>GULP</td>\n",
       "      <td>1131563-04</td>\n",
       "      <td>000007010264</td>\n",
       "      <td>cline manual</td>\n",
       "      <td>GULP manual 1</td>\n",
       "      <td>GULP test</td>\n",
       "      <td>2025-04-11 11:40:51.545328-05:00</td>\n",
       "      <td>2025-04-11 11:41:00.599534-05:00</td>\n",
       "      <td>PASS</td>\n",
       "      <td>Assembly</td>\n",
       "      <td>1</td>\n",
       "    </tr>\n",
       "    <tr>\n",
       "      <th>31595</th>\n",
       "      <td>000007010384</td>\n",
       "      <td>FWI2516-14432</td>\n",
       "      <td>IPBFWI251500743</td>\n",
       "      <td>GULP</td>\n",
       "      <td>1131563-04</td>\n",
       "      <td>000007010264</td>\n",
       "      <td>cline manual</td>\n",
       "      <td>GULP test</td>\n",
       "      <td>Repair</td>\n",
       "      <td>2025-04-13 23:33:21.826625-05:00</td>\n",
       "      <td>2025-04-13 23:41:32.092043-05:00</td>\n",
       "      <td>FAIL</td>\n",
       "      <td>Test</td>\n",
       "      <td>1</td>\n",
       "    </tr>\n",
       "    <tr>\n",
       "      <th>31596</th>\n",
       "      <td>000007010384</td>\n",
       "      <td>FWI2516-14432</td>\n",
       "      <td>IPBFWI251500743</td>\n",
       "      <td>GULP</td>\n",
       "      <td>1131563-04</td>\n",
       "      <td>000007010264</td>\n",
       "      <td>cline manual</td>\n",
       "      <td>Repair</td>\n",
       "      <td>Repair</td>\n",
       "      <td>2025-04-14 11:14:26.787064-05:00</td>\n",
       "      <td>2025-04-14 11:14:52.224177-05:00</td>\n",
       "      <td>FORCE</td>\n",
       "      <td>Repair</td>\n",
       "      <td>1</td>\n",
       "    </tr>\n",
       "    <tr>\n",
       "      <th>31597</th>\n",
       "      <td>000007010384</td>\n",
       "      <td>FWI2516-14432</td>\n",
       "      <td>IPBFWI251500743</td>\n",
       "      <td>GULP</td>\n",
       "      <td>1131563-04</td>\n",
       "      <td>000007010264</td>\n",
       "      <td>cline manual</td>\n",
       "      <td>Repair</td>\n",
       "      <td>GULP test</td>\n",
       "      <td>2025-04-14 11:15:01.892747-05:00</td>\n",
       "      <td>2025-04-14 14:03:32.790345-05:00</td>\n",
       "      <td>PASS</td>\n",
       "      <td>Repair</td>\n",
       "      <td>2</td>\n",
       "    </tr>\n",
       "    <tr>\n",
       "      <th>31598</th>\n",
       "      <td>000007010384</td>\n",
       "      <td>FWI2516-14432</td>\n",
       "      <td>IPBFWI251500743</td>\n",
       "      <td>GULP</td>\n",
       "      <td>1131563-04</td>\n",
       "      <td>000007010264</td>\n",
       "      <td>cline manual</td>\n",
       "      <td>GULP test</td>\n",
       "      <td>Pack</td>\n",
       "      <td>2025-04-26 15:55:10.121652-05:00</td>\n",
       "      <td>2025-04-26 16:04:45.179723-05:00</td>\n",
       "      <td>PASS</td>\n",
       "      <td>Test</td>\n",
       "      <td>2</td>\n",
       "    </tr>\n",
       "    <tr>\n",
       "      <th>31599</th>\n",
       "      <td>000007010384</td>\n",
       "      <td>FWI2516-14432</td>\n",
       "      <td>IPBFWI251500743</td>\n",
       "      <td>GULP</td>\n",
       "      <td>1131563-04</td>\n",
       "      <td>000007010264</td>\n",
       "      <td>cline manual</td>\n",
       "      <td>Pack</td>\n",
       "      <td>palletized</td>\n",
       "      <td>2025-04-26 16:04:46.909371-05:00</td>\n",
       "      <td>2025-04-26 16:05:08.767906-05:00</td>\n",
       "      <td>PASS</td>\n",
       "      <td>Pack</td>\n",
       "      <td>1</td>\n",
       "    </tr>\n",
       "  </tbody>\n",
       "</table>\n",
       "</div>"
      ],
      "text/plain": [
       "      source_workorder_id source_serial_number    serial_number model_name  \\\n",
       "31594        000007010384        FWI2516-14432  IPBFWI251500743       GULP   \n",
       "31595        000007010384        FWI2516-14432  IPBFWI251500743       GULP   \n",
       "31596        000007010384        FWI2516-14432  IPBFWI251500743       GULP   \n",
       "31597        000007010384        FWI2516-14432  IPBFWI251500743       GULP   \n",
       "31598        000007010384        FWI2516-14432  IPBFWI251500743       GULP   \n",
       "31599        000007010384        FWI2516-14432  IPBFWI251500743       GULP   \n",
       "\n",
       "         model_id  workorder_id          line   from_station  to_station  \\\n",
       "31594  1131563-04  000007010264  cline manual  GULP manual 1   GULP test   \n",
       "31595  1131563-04  000007010264  cline manual      GULP test      Repair   \n",
       "31596  1131563-04  000007010264  cline manual         Repair      Repair   \n",
       "31597  1131563-04  000007010264  cline manual         Repair   GULP test   \n",
       "31598  1131563-04  000007010264  cline manual      GULP test        Pack   \n",
       "31599  1131563-04  000007010264  cline manual           Pack  palletized   \n",
       "\n",
       "                        in_station_time                  out_station_time  \\\n",
       "31594  2025-04-11 11:40:51.545328-05:00  2025-04-11 11:41:00.599534-05:00   \n",
       "31595  2025-04-13 23:33:21.826625-05:00  2025-04-13 23:41:32.092043-05:00   \n",
       "31596  2025-04-14 11:14:26.787064-05:00  2025-04-14 11:14:52.224177-05:00   \n",
       "31597  2025-04-14 11:15:01.892747-05:00  2025-04-14 14:03:32.790345-05:00   \n",
       "31598  2025-04-26 15:55:10.121652-05:00  2025-04-26 16:04:45.179723-05:00   \n",
       "31599  2025-04-26 16:04:46.909371-05:00  2025-04-26 16:05:08.767906-05:00   \n",
       "\n",
       "      result station_type  attempt  \n",
       "31594   PASS     Assembly        1  \n",
       "31595   FAIL         Test        1  \n",
       "31596  FORCE       Repair        1  \n",
       "31597   PASS       Repair        2  \n",
       "31598   PASS         Test        2  \n",
       "31599   PASS         Pack        1  "
      ]
     },
     "execution_count": 10,
     "metadata": {},
     "output_type": "execute_result"
    }
   ],
   "source": [
    "athena_gulp_sn_log_df[athena_gulp_sn_log_df.source_serial_number == \"FWI2516-14432\"]"
   ]
  },
  {
   "cell_type": "code",
   "execution_count": 11,
   "metadata": {},
   "outputs": [],
   "source": [
    "# Query mobo/agora serial number logs that are assembled in L6\n",
    "'''\n",
    "Tray Mobo/SGB Mobo - MG15\n",
    "Agora - MG30\n",
    "'''\n",
    "athena_mobo_agora_sn_log_query = f'''\n",
    "WITH selected_sn AS (\n",
    "    SELECT sn.serial_number, sn.workorder_id\n",
    "    FROM manufacturing_serialnumber sn\n",
    "    WHERE sn.workorder_id IN {athena_shipped_wo}\n",
    "),\n",
    "valid_wo_detail AS (\n",
    "    SELECT wd.row_id\n",
    "    FROM manufacturing_workorderdetail wd\n",
    "    WHERE wd.workorder_id IN {athena_shipped_wo}\n",
    "      AND wd.required_qty != 0\n",
    "      AND wd.keypart_group IN ('MG15', 'MG30')\n",
    "),\n",
    "target_keypart_serial AS (\n",
    "    SELECT \n",
    "        kpd.value AS keypart_serial_number, \n",
    "        sn.serial_number AS source_serial_number, \n",
    "        sn.workorder_id AS source_workorder_id\n",
    "    FROM manufacturing_keypart kp\n",
    "    JOIN valid_wo_detail wd ON kp.wo_detail_id = wd.row_id\n",
    "    JOIN selected_sn sn ON kp.serialnumber_id = sn.serial_number\n",
    "    JOIN manufacturing_keypartdata kpd ON kp.row_id = kpd.keypart_id\n",
    "    WHERE kpd.field_id = 1\n",
    "),\n",
    "final_log AS (\n",
    "    SELECT tks.source_workorder_id, tks.source_serial_number, l6.workorder, l6.model_id, l6.serial_number, l6.platform_name, l6.from_station, l6.to_station, \n",
    "            l6.from_route, l6.to_route, l6.from_line, l6.to_line, l6.in_station_time, l6.out_station_time, \n",
    "            l6.attempt, l6.memo, l6.shift\n",
    "    FROM l6_log_l6serialnumberlog l6\n",
    "    JOIN target_keypart_serial tks \n",
    "      ON l6.serial_number = tks.keypart_serial_number\n",
    ")\n",
    "SELECT  * FROM final_log;\n",
    "'''\n",
    "\n",
    "athena_mobo_agora_sn_log_df = hf.db_connect(athena_mobo_agora_sn_log_query)"
   ]
  },
  {
   "cell_type": "code",
   "execution_count": 12,
   "metadata": {},
   "outputs": [
    {
     "data": {
      "text/html": [
       "<div>\n",
       "<style scoped>\n",
       "    .dataframe tbody tr th:only-of-type {\n",
       "        vertical-align: middle;\n",
       "    }\n",
       "\n",
       "    .dataframe tbody tr th {\n",
       "        vertical-align: top;\n",
       "    }\n",
       "\n",
       "    .dataframe thead th {\n",
       "        text-align: right;\n",
       "    }\n",
       "</style>\n",
       "<table border=\"1\" class=\"dataframe\">\n",
       "  <thead>\n",
       "    <tr style=\"text-align: right;\">\n",
       "      <th></th>\n",
       "      <th>source_workorder_id</th>\n",
       "      <th>source_serial_number</th>\n",
       "      <th>workorder</th>\n",
       "      <th>model_id</th>\n",
       "      <th>serial_number</th>\n",
       "      <th>platform_name</th>\n",
       "      <th>from_station</th>\n",
       "      <th>to_station</th>\n",
       "      <th>from_route</th>\n",
       "      <th>to_route</th>\n",
       "      <th>from_line</th>\n",
       "      <th>to_line</th>\n",
       "      <th>in_station_time</th>\n",
       "      <th>out_station_time</th>\n",
       "      <th>attempt</th>\n",
       "      <th>memo</th>\n",
       "      <th>shift</th>\n",
       "    </tr>\n",
       "  </thead>\n",
       "  <tbody>\n",
       "    <tr>\n",
       "      <th>303996</th>\n",
       "      <td>000007010384</td>\n",
       "      <td>FWI2516-14432</td>\n",
       "      <td>000007009698</td>\n",
       "      <td>1183299-03</td>\n",
       "      <td>ATDFWI251303103</td>\n",
       "      <td>ATHENA MB</td>\n",
       "      <td>Generated</td>\n",
       "      <td>BOT Input</td>\n",
       "      <td>None</td>\n",
       "      <td>BOT</td>\n",
       "      <td>None</td>\n",
       "      <td>Line 7</td>\n",
       "      <td>2025-04-04 10:53:29.344160-05:00</td>\n",
       "      <td>2025-04-04 10:53:29.344160-05:00</td>\n",
       "      <td>1</td>\n",
       "      <td></td>\n",
       "      <td>0</td>\n",
       "    </tr>\n",
       "    <tr>\n",
       "      <th>303995</th>\n",
       "      <td>000007010384</td>\n",
       "      <td>FWI2516-14432</td>\n",
       "      <td>000007009698</td>\n",
       "      <td>1183299-03</td>\n",
       "      <td>ATDFWI251303103</td>\n",
       "      <td>ATHENA MB</td>\n",
       "      <td>BOT Input</td>\n",
       "      <td>SPI</td>\n",
       "      <td>BOT</td>\n",
       "      <td>BOT</td>\n",
       "      <td>Line 7</td>\n",
       "      <td>Line 7</td>\n",
       "      <td>2025-04-24 09:55:44.148623-05:00</td>\n",
       "      <td>2025-04-24 09:56:48.921205-05:00</td>\n",
       "      <td>1</td>\n",
       "      <td>PASS</td>\n",
       "      <td>1</td>\n",
       "    </tr>\n",
       "    <tr>\n",
       "      <th>303994</th>\n",
       "      <td>000007010384</td>\n",
       "      <td>FWI2516-14432</td>\n",
       "      <td>000007009698</td>\n",
       "      <td>1183299-03</td>\n",
       "      <td>ATDFWI251303103</td>\n",
       "      <td>ATHENA MB</td>\n",
       "      <td>SPI</td>\n",
       "      <td>PostAOI</td>\n",
       "      <td>BOT</td>\n",
       "      <td>BOT</td>\n",
       "      <td>Line 7</td>\n",
       "      <td>Line 7</td>\n",
       "      <td>2025-04-24 11:11:41-05:00</td>\n",
       "      <td>2025-04-24 11:12:18-05:00</td>\n",
       "      <td>1</td>\n",
       "      <td>PASS</td>\n",
       "      <td>1</td>\n",
       "    </tr>\n",
       "    <tr>\n",
       "      <th>303993</th>\n",
       "      <td>000007010384</td>\n",
       "      <td>FWI2516-14432</td>\n",
       "      <td>000007009698</td>\n",
       "      <td>1183299-03</td>\n",
       "      <td>ATDFWI251303103</td>\n",
       "      <td>ATHENA MB</td>\n",
       "      <td>PostAOI</td>\n",
       "      <td>SPI</td>\n",
       "      <td>BOT</td>\n",
       "      <td>TOP</td>\n",
       "      <td>Line 7</td>\n",
       "      <td>Line 7</td>\n",
       "      <td>2025-04-24 11:58:51-05:00</td>\n",
       "      <td>2025-04-24 11:59:46-05:00</td>\n",
       "      <td>1</td>\n",
       "      <td>PASS</td>\n",
       "      <td>1</td>\n",
       "    </tr>\n",
       "    <tr>\n",
       "      <th>303992</th>\n",
       "      <td>000007010384</td>\n",
       "      <td>FWI2516-14432</td>\n",
       "      <td>000007009698</td>\n",
       "      <td>1183299-03</td>\n",
       "      <td>ATDFWI251303103</td>\n",
       "      <td>ATHENA MB</td>\n",
       "      <td>SPI</td>\n",
       "      <td>PostAOI</td>\n",
       "      <td>TOP</td>\n",
       "      <td>TOP</td>\n",
       "      <td>Line 7</td>\n",
       "      <td>Line 7</td>\n",
       "      <td>2025-04-24 12:05:11-05:00</td>\n",
       "      <td>2025-04-24 12:06:18-05:00</td>\n",
       "      <td>1</td>\n",
       "      <td>PASS</td>\n",
       "      <td>1</td>\n",
       "    </tr>\n",
       "    <tr>\n",
       "      <th>303991</th>\n",
       "      <td>000007010384</td>\n",
       "      <td>FWI2516-14432</td>\n",
       "      <td>000007009698</td>\n",
       "      <td>1183299-03</td>\n",
       "      <td>ATDFWI251303103</td>\n",
       "      <td>ATHENA MB</td>\n",
       "      <td>PostAOI</td>\n",
       "      <td>VI</td>\n",
       "      <td>TOP</td>\n",
       "      <td>PTH</td>\n",
       "      <td>Line 7</td>\n",
       "      <td>Line 7</td>\n",
       "      <td>2025-04-24 12:59:04-05:00</td>\n",
       "      <td>2025-04-24 13:00:09-05:00</td>\n",
       "      <td>1</td>\n",
       "      <td>PASS</td>\n",
       "      <td>1</td>\n",
       "    </tr>\n",
       "    <tr>\n",
       "      <th>303990</th>\n",
       "      <td>000007010384</td>\n",
       "      <td>FWI2516-14432</td>\n",
       "      <td>000007009698</td>\n",
       "      <td>1183299-03</td>\n",
       "      <td>ATDFWI251303103</td>\n",
       "      <td>ATHENA MB</td>\n",
       "      <td>VI</td>\n",
       "      <td>X-Ray</td>\n",
       "      <td>PTH</td>\n",
       "      <td>PTH</td>\n",
       "      <td>Line 7</td>\n",
       "      <td>Line 7</td>\n",
       "      <td>2025-04-24 13:13:48.845099-05:00</td>\n",
       "      <td>2025-04-24 13:15:51.118212-05:00</td>\n",
       "      <td>1</td>\n",
       "      <td>PASS</td>\n",
       "      <td>1</td>\n",
       "    </tr>\n",
       "    <tr>\n",
       "      <th>303989</th>\n",
       "      <td>000007010384</td>\n",
       "      <td>FWI2516-14432</td>\n",
       "      <td>000007009698</td>\n",
       "      <td>1183299-03</td>\n",
       "      <td>ATDFWI251303103</td>\n",
       "      <td>ATHENA MB</td>\n",
       "      <td>X-Ray</td>\n",
       "      <td>ICT</td>\n",
       "      <td>PTH</td>\n",
       "      <td>PTH</td>\n",
       "      <td>Line 7</td>\n",
       "      <td>Line 7</td>\n",
       "      <td>2025-04-24 15:40:09-05:00</td>\n",
       "      <td>2025-04-24 15:42:16-05:00</td>\n",
       "      <td>1</td>\n",
       "      <td>PASS</td>\n",
       "      <td>2</td>\n",
       "    </tr>\n",
       "    <tr>\n",
       "      <th>303988</th>\n",
       "      <td>000007010384</td>\n",
       "      <td>FWI2516-14432</td>\n",
       "      <td>000007009698</td>\n",
       "      <td>1183299-03</td>\n",
       "      <td>ATDFWI251303103</td>\n",
       "      <td>ATHENA MB</td>\n",
       "      <td>ICT</td>\n",
       "      <td>Edge Bonding</td>\n",
       "      <td>PTH</td>\n",
       "      <td>PTH</td>\n",
       "      <td>Line 7</td>\n",
       "      <td>Line 7</td>\n",
       "      <td>2025-04-24 15:50:29.004881-05:00</td>\n",
       "      <td>2025-04-24 16:01:06-05:00</td>\n",
       "      <td>1</td>\n",
       "      <td>PASS</td>\n",
       "      <td>2</td>\n",
       "    </tr>\n",
       "    <tr>\n",
       "      <th>303987</th>\n",
       "      <td>000007010384</td>\n",
       "      <td>FWI2516-14432</td>\n",
       "      <td>000007009698</td>\n",
       "      <td>1183299-03</td>\n",
       "      <td>ATDFWI251303103</td>\n",
       "      <td>ATHENA MB</td>\n",
       "      <td>Edge Bonding</td>\n",
       "      <td>Assembly 1</td>\n",
       "      <td>PTH</td>\n",
       "      <td>PTH</td>\n",
       "      <td>Line 7</td>\n",
       "      <td>Line 7</td>\n",
       "      <td>2025-04-24 16:09:24.200318-05:00</td>\n",
       "      <td>2025-04-24 16:10:27.294316-05:00</td>\n",
       "      <td>1</td>\n",
       "      <td>PASS</td>\n",
       "      <td>2</td>\n",
       "    </tr>\n",
       "    <tr>\n",
       "      <th>303986</th>\n",
       "      <td>000007010384</td>\n",
       "      <td>FWI2516-14432</td>\n",
       "      <td>000007009698</td>\n",
       "      <td>1183299-03</td>\n",
       "      <td>ATDFWI251303103</td>\n",
       "      <td>ATHENA MB</td>\n",
       "      <td>Assembly 1</td>\n",
       "      <td>Assembly 2</td>\n",
       "      <td>PTH</td>\n",
       "      <td>PTH</td>\n",
       "      <td>Line 7</td>\n",
       "      <td>Line 7</td>\n",
       "      <td>2025-04-24 16:28:36.154198-05:00</td>\n",
       "      <td>2025-04-24 16:30:11.052156-05:00</td>\n",
       "      <td>1</td>\n",
       "      <td>PASS</td>\n",
       "      <td>2</td>\n",
       "    </tr>\n",
       "    <tr>\n",
       "      <th>303985</th>\n",
       "      <td>000007010384</td>\n",
       "      <td>FWI2516-14432</td>\n",
       "      <td>000007009698</td>\n",
       "      <td>1183299-03</td>\n",
       "      <td>ATDFWI251303103</td>\n",
       "      <td>ATHENA MB</td>\n",
       "      <td>Assembly 2</td>\n",
       "      <td>BSI</td>\n",
       "      <td>PTH</td>\n",
       "      <td>PTH</td>\n",
       "      <td>Line 7</td>\n",
       "      <td>Line 7</td>\n",
       "      <td>2025-04-24 16:30:52.657493-05:00</td>\n",
       "      <td>2025-04-24 16:33:45.196242-05:00</td>\n",
       "      <td>1</td>\n",
       "      <td>PASS</td>\n",
       "      <td>2</td>\n",
       "    </tr>\n",
       "    <tr>\n",
       "      <th>303984</th>\n",
       "      <td>000007010384</td>\n",
       "      <td>FWI2516-14432</td>\n",
       "      <td>000007009698</td>\n",
       "      <td>1183299-03</td>\n",
       "      <td>ATDFWI251303103</td>\n",
       "      <td>ATHENA MB</td>\n",
       "      <td>BSI</td>\n",
       "      <td>FBT</td>\n",
       "      <td>PTH</td>\n",
       "      <td>PTH</td>\n",
       "      <td>Line 7</td>\n",
       "      <td>Line 7</td>\n",
       "      <td>2025-04-24 16:33:45.196242-05:00</td>\n",
       "      <td>2025-04-24 16:37:40-05:00</td>\n",
       "      <td>1</td>\n",
       "      <td>PASS</td>\n",
       "      <td>2</td>\n",
       "    </tr>\n",
       "    <tr>\n",
       "      <th>303983</th>\n",
       "      <td>000007010384</td>\n",
       "      <td>FWI2516-14432</td>\n",
       "      <td>000007009698</td>\n",
       "      <td>1183299-03</td>\n",
       "      <td>ATDFWI251303103</td>\n",
       "      <td>ATHENA MB</td>\n",
       "      <td>FBT</td>\n",
       "      <td>Provisioning</td>\n",
       "      <td>PTH</td>\n",
       "      <td>PTH</td>\n",
       "      <td>Line 7</td>\n",
       "      <td>Line 7</td>\n",
       "      <td>2025-04-24 16:39:51.424002-05:00</td>\n",
       "      <td>2025-04-24 17:15:00-05:00</td>\n",
       "      <td>1</td>\n",
       "      <td>PASS</td>\n",
       "      <td>2</td>\n",
       "    </tr>\n",
       "    <tr>\n",
       "      <th>303982</th>\n",
       "      <td>000007010384</td>\n",
       "      <td>FWI2516-14432</td>\n",
       "      <td>000007009698</td>\n",
       "      <td>1183299-03</td>\n",
       "      <td>ATDFWI251303103</td>\n",
       "      <td>ATHENA MB</td>\n",
       "      <td>Provisioning</td>\n",
       "      <td>Packing</td>\n",
       "      <td>PTH</td>\n",
       "      <td>PTH</td>\n",
       "      <td>Line 7</td>\n",
       "      <td>Line 7</td>\n",
       "      <td>2025-04-24 17:38:14.708115-05:00</td>\n",
       "      <td>2025-04-24 17:44:33-05:00</td>\n",
       "      <td>1</td>\n",
       "      <td>PASS</td>\n",
       "      <td>2</td>\n",
       "    </tr>\n",
       "    <tr>\n",
       "      <th>303981</th>\n",
       "      <td>000007010384</td>\n",
       "      <td>FWI2516-14432</td>\n",
       "      <td>000007009698</td>\n",
       "      <td>1183299-03</td>\n",
       "      <td>ATDFWI251303103</td>\n",
       "      <td>ATHENA MB</td>\n",
       "      <td>Packing</td>\n",
       "      <td>Ship Out</td>\n",
       "      <td>PTH</td>\n",
       "      <td>PTH</td>\n",
       "      <td>Line 7</td>\n",
       "      <td>Line 7</td>\n",
       "      <td>2025-04-24 18:17:01.626385-05:00</td>\n",
       "      <td>2025-04-24 18:17:58.983071-05:00</td>\n",
       "      <td>1</td>\n",
       "      <td>PASS</td>\n",
       "      <td>2</td>\n",
       "    </tr>\n",
       "  </tbody>\n",
       "</table>\n",
       "</div>"
      ],
      "text/plain": [
       "       source_workorder_id source_serial_number     workorder    model_id  \\\n",
       "303996        000007010384        FWI2516-14432  000007009698  1183299-03   \n",
       "303995        000007010384        FWI2516-14432  000007009698  1183299-03   \n",
       "303994        000007010384        FWI2516-14432  000007009698  1183299-03   \n",
       "303993        000007010384        FWI2516-14432  000007009698  1183299-03   \n",
       "303992        000007010384        FWI2516-14432  000007009698  1183299-03   \n",
       "303991        000007010384        FWI2516-14432  000007009698  1183299-03   \n",
       "303990        000007010384        FWI2516-14432  000007009698  1183299-03   \n",
       "303989        000007010384        FWI2516-14432  000007009698  1183299-03   \n",
       "303988        000007010384        FWI2516-14432  000007009698  1183299-03   \n",
       "303987        000007010384        FWI2516-14432  000007009698  1183299-03   \n",
       "303986        000007010384        FWI2516-14432  000007009698  1183299-03   \n",
       "303985        000007010384        FWI2516-14432  000007009698  1183299-03   \n",
       "303984        000007010384        FWI2516-14432  000007009698  1183299-03   \n",
       "303983        000007010384        FWI2516-14432  000007009698  1183299-03   \n",
       "303982        000007010384        FWI2516-14432  000007009698  1183299-03   \n",
       "303981        000007010384        FWI2516-14432  000007009698  1183299-03   \n",
       "\n",
       "          serial_number platform_name  from_station    to_station from_route  \\\n",
       "303996  ATDFWI251303103     ATHENA MB     Generated     BOT Input       None   \n",
       "303995  ATDFWI251303103     ATHENA MB     BOT Input           SPI        BOT   \n",
       "303994  ATDFWI251303103     ATHENA MB           SPI       PostAOI        BOT   \n",
       "303993  ATDFWI251303103     ATHENA MB       PostAOI           SPI        BOT   \n",
       "303992  ATDFWI251303103     ATHENA MB           SPI       PostAOI        TOP   \n",
       "303991  ATDFWI251303103     ATHENA MB       PostAOI            VI        TOP   \n",
       "303990  ATDFWI251303103     ATHENA MB            VI         X-Ray        PTH   \n",
       "303989  ATDFWI251303103     ATHENA MB         X-Ray           ICT        PTH   \n",
       "303988  ATDFWI251303103     ATHENA MB           ICT  Edge Bonding        PTH   \n",
       "303987  ATDFWI251303103     ATHENA MB  Edge Bonding    Assembly 1        PTH   \n",
       "303986  ATDFWI251303103     ATHENA MB    Assembly 1    Assembly 2        PTH   \n",
       "303985  ATDFWI251303103     ATHENA MB    Assembly 2           BSI        PTH   \n",
       "303984  ATDFWI251303103     ATHENA MB           BSI           FBT        PTH   \n",
       "303983  ATDFWI251303103     ATHENA MB           FBT  Provisioning        PTH   \n",
       "303982  ATDFWI251303103     ATHENA MB  Provisioning       Packing        PTH   \n",
       "303981  ATDFWI251303103     ATHENA MB       Packing      Ship Out        PTH   \n",
       "\n",
       "       to_route from_line to_line                   in_station_time  \\\n",
       "303996      BOT      None  Line 7  2025-04-04 10:53:29.344160-05:00   \n",
       "303995      BOT    Line 7  Line 7  2025-04-24 09:55:44.148623-05:00   \n",
       "303994      BOT    Line 7  Line 7         2025-04-24 11:11:41-05:00   \n",
       "303993      TOP    Line 7  Line 7         2025-04-24 11:58:51-05:00   \n",
       "303992      TOP    Line 7  Line 7         2025-04-24 12:05:11-05:00   \n",
       "303991      PTH    Line 7  Line 7         2025-04-24 12:59:04-05:00   \n",
       "303990      PTH    Line 7  Line 7  2025-04-24 13:13:48.845099-05:00   \n",
       "303989      PTH    Line 7  Line 7         2025-04-24 15:40:09-05:00   \n",
       "303988      PTH    Line 7  Line 7  2025-04-24 15:50:29.004881-05:00   \n",
       "303987      PTH    Line 7  Line 7  2025-04-24 16:09:24.200318-05:00   \n",
       "303986      PTH    Line 7  Line 7  2025-04-24 16:28:36.154198-05:00   \n",
       "303985      PTH    Line 7  Line 7  2025-04-24 16:30:52.657493-05:00   \n",
       "303984      PTH    Line 7  Line 7  2025-04-24 16:33:45.196242-05:00   \n",
       "303983      PTH    Line 7  Line 7  2025-04-24 16:39:51.424002-05:00   \n",
       "303982      PTH    Line 7  Line 7  2025-04-24 17:38:14.708115-05:00   \n",
       "303981      PTH    Line 7  Line 7  2025-04-24 18:17:01.626385-05:00   \n",
       "\n",
       "                        out_station_time  attempt  memo  shift  \n",
       "303996  2025-04-04 10:53:29.344160-05:00        1            0  \n",
       "303995  2025-04-24 09:56:48.921205-05:00        1  PASS      1  \n",
       "303994         2025-04-24 11:12:18-05:00        1  PASS      1  \n",
       "303993         2025-04-24 11:59:46-05:00        1  PASS      1  \n",
       "303992         2025-04-24 12:06:18-05:00        1  PASS      1  \n",
       "303991         2025-04-24 13:00:09-05:00        1  PASS      1  \n",
       "303990  2025-04-24 13:15:51.118212-05:00        1  PASS      1  \n",
       "303989         2025-04-24 15:42:16-05:00        1  PASS      2  \n",
       "303988         2025-04-24 16:01:06-05:00        1  PASS      2  \n",
       "303987  2025-04-24 16:10:27.294316-05:00        1  PASS      2  \n",
       "303986  2025-04-24 16:30:11.052156-05:00        1  PASS      2  \n",
       "303985  2025-04-24 16:33:45.196242-05:00        1  PASS      2  \n",
       "303984         2025-04-24 16:37:40-05:00        1  PASS      2  \n",
       "303983         2025-04-24 17:15:00-05:00        1  PASS      2  \n",
       "303982         2025-04-24 17:44:33-05:00        1  PASS      2  \n",
       "303981  2025-04-24 18:17:58.983071-05:00        1  PASS      2  "
      ]
     },
     "execution_count": 12,
     "metadata": {},
     "output_type": "execute_result"
    }
   ],
   "source": [
    "athena_mobo_agora_sn_log_df[athena_mobo_agora_sn_log_df.source_serial_number == \"FWI2516-14432\"].sort_values(by=[\"platform_name\", \"in_station_time\"])[13:]"
   ]
  },
  {
   "cell_type": "code",
   "execution_count": 13,
   "metadata": {},
   "outputs": [],
   "source": [
    "# Query the Athena's l10 serial number logs\n",
    "l10_sn_log_query = f'''\n",
    "                SELECT l10snl.serial_number, l10snl.line, l10snl.from_station, l10snl.to_station, l10snl.in_station_time, l10snl.out_station_time,\n",
    "                        l10snl.shift, l10snl.result, l10snl.station_type, l10snl.attempt\n",
    "                FROM manufacturing_l10serialnumberlog l10snl\n",
    "                WHERE l10snl.serial_number IN {athena_shipped_sn_list}\n",
    "                '''\n",
    "athena_shipped_l10_sn_log_df = hf.db_connect(l10_sn_log_query)"
   ]
  },
  {
   "cell_type": "code",
   "execution_count": 14,
   "metadata": {},
   "outputs": [],
   "source": [
    "athena_shipped_l10_sn_log_df['in_station_time'] = pd.to_datetime(athena_shipped_l10_sn_log_df['in_station_time'].astype(str).str[:20])\n",
    "athena_shipped_l10_sn_log_df['out_station_time'] = pd.to_datetime(athena_shipped_l10_sn_log_df['out_station_time'].astype(str).str[:20], errors=\"coerce\")"
   ]
  },
  {
   "cell_type": "code",
   "execution_count": 15,
   "metadata": {},
   "outputs": [
    {
     "data": {
      "text/plain": [
       "count    10205.000000\n",
       "mean        13.370505\n",
       "std          0.502651\n",
       "min         10.000000\n",
       "25%         13.000000\n",
       "50%         13.000000\n",
       "75%         14.000000\n",
       "max         16.000000\n",
       "Name: to_station, dtype: float64"
      ]
     },
     "execution_count": 15,
     "metadata": {},
     "output_type": "execute_result"
    }
   ],
   "source": [
    "sn_station_set = athena_shipped_l10_sn_log_df.groupby(\"serial_number\")[\"to_station\"].unique()\n",
    "sn_station_set_lengths = sn_station_set.apply(len)\n",
    "sn_station_set_lengths.describe()\n"
   ]
  },
  {
   "cell_type": "code",
   "execution_count": 16,
   "metadata": {},
   "outputs": [],
   "source": [
    "# Create helper columns\n",
    "athena_shipped_l10_sn_log_df[\"from_station_shifted\"] = athena_shipped_l10_sn_log_df.groupby(\"serial_number\")[\"from_station\"].shift(-1)\n",
    "\n",
    "# Condition: current row's from_station is 'Repair', to_station is null, and next row from_station is also 'Repair'\n",
    "condition = (\n",
    "    (athena_shipped_l10_sn_log_df[\"from_station\"] == \"Repair\") &\n",
    "    (athena_shipped_l10_sn_log_df[\"to_station\"].isna()) &\n",
    "    (athena_shipped_l10_sn_log_df[\"from_station_shifted\"] == \"Repair\")\n",
    ")\n",
    "\n",
    "# Fill to_station with \"Repair\" where condition is met\n",
    "athena_shipped_l10_sn_log_df.loc[condition, \"to_station\"] = \"Repair\"\n",
    "\n",
    "# Drop helper column\n",
    "athena_shipped_l10_sn_log_df = athena_shipped_l10_sn_log_df.drop(columns=[\"from_station_shifted\"])\n",
    "athena_shipped_l10_sn_log_df.sort_values(by=[\"serial_number\", \"in_station_time\"], inplace=True)"
   ]
  },
  {
   "cell_type": "code",
   "execution_count": 17,
   "metadata": {},
   "outputs": [
    {
     "data": {
      "text/html": [
       "<div>\n",
       "<style scoped>\n",
       "    .dataframe tbody tr th:only-of-type {\n",
       "        vertical-align: middle;\n",
       "    }\n",
       "\n",
       "    .dataframe tbody tr th {\n",
       "        vertical-align: top;\n",
       "    }\n",
       "\n",
       "    .dataframe thead th {\n",
       "        text-align: right;\n",
       "    }\n",
       "</style>\n",
       "<table border=\"1\" class=\"dataframe\">\n",
       "  <thead>\n",
       "    <tr style=\"text-align: right;\">\n",
       "      <th></th>\n",
       "      <th>serial_number</th>\n",
       "      <th>line</th>\n",
       "      <th>from_station</th>\n",
       "      <th>to_station</th>\n",
       "      <th>in_station_time</th>\n",
       "      <th>out_station_time</th>\n",
       "      <th>shift</th>\n",
       "      <th>result</th>\n",
       "      <th>station_type</th>\n",
       "      <th>attempt</th>\n",
       "    </tr>\n",
       "  </thead>\n",
       "  <tbody>\n",
       "    <tr>\n",
       "      <th>61308</th>\n",
       "      <td>FWI2449-19296</td>\n",
       "      <td>cline4</td>\n",
       "      <td>ATH Manual 1</td>\n",
       "      <td>ATH FAN</td>\n",
       "      <td>2024-12-12 16:45:08</td>\n",
       "      <td>2024-12-12 16:47:28</td>\n",
       "      <td>2</td>\n",
       "      <td>PASS</td>\n",
       "      <td>Assembly</td>\n",
       "      <td>1</td>\n",
       "    </tr>\n",
       "    <tr>\n",
       "      <th>61318</th>\n",
       "      <td>FWI2449-19296</td>\n",
       "      <td>cline4</td>\n",
       "      <td>ATH FAN</td>\n",
       "      <td>ATH DIMM</td>\n",
       "      <td>2024-12-12 16:48:17</td>\n",
       "      <td>2024-12-12 16:49:58</td>\n",
       "      <td>2</td>\n",
       "      <td>PASS</td>\n",
       "      <td>Assembly</td>\n",
       "      <td>1</td>\n",
       "    </tr>\n",
       "    <tr>\n",
       "      <th>61324</th>\n",
       "      <td>FWI2449-19296</td>\n",
       "      <td>cline4</td>\n",
       "      <td>ATH DIMM</td>\n",
       "      <td>ATH Manual 2</td>\n",
       "      <td>2024-12-12 16:50:00</td>\n",
       "      <td>2024-12-12 16:53:32</td>\n",
       "      <td>2</td>\n",
       "      <td>PASS</td>\n",
       "      <td>Assembly</td>\n",
       "      <td>1</td>\n",
       "    </tr>\n",
       "    <tr>\n",
       "      <th>61345</th>\n",
       "      <td>FWI2449-19296</td>\n",
       "      <td>cline4</td>\n",
       "      <td>ATH Manual 2</td>\n",
       "      <td>ATH Manual 3</td>\n",
       "      <td>2024-12-12 16:53:45</td>\n",
       "      <td>2024-12-12 16:54:48</td>\n",
       "      <td>2</td>\n",
       "      <td>PASS</td>\n",
       "      <td>Assembly</td>\n",
       "      <td>1</td>\n",
       "    </tr>\n",
       "    <tr>\n",
       "      <th>61347</th>\n",
       "      <td>FWI2449-19296</td>\n",
       "      <td>cline4</td>\n",
       "      <td>ATH Manual 3</td>\n",
       "      <td>ATH Manual 4</td>\n",
       "      <td>2024-12-12 16:54:48</td>\n",
       "      <td>2024-12-12 16:55:58</td>\n",
       "      <td>2</td>\n",
       "      <td>PASS</td>\n",
       "      <td>Assembly</td>\n",
       "      <td>1</td>\n",
       "    </tr>\n",
       "    <tr>\n",
       "      <th>61353</th>\n",
       "      <td>FWI2449-19296</td>\n",
       "      <td>cline4</td>\n",
       "      <td>ATH Manual 4</td>\n",
       "      <td>ATH Manual 5</td>\n",
       "      <td>2024-12-12 16:55:58</td>\n",
       "      <td>2024-12-12 16:57:55</td>\n",
       "      <td>2</td>\n",
       "      <td>PASS</td>\n",
       "      <td>Assembly</td>\n",
       "      <td>1</td>\n",
       "    </tr>\n",
       "    <tr>\n",
       "      <th>61361</th>\n",
       "      <td>FWI2449-19296</td>\n",
       "      <td>cline4</td>\n",
       "      <td>ATH Manual 5</td>\n",
       "      <td>ATH Firmware Update</td>\n",
       "      <td>2024-12-12 16:58:27</td>\n",
       "      <td>2024-12-12 17:00:36</td>\n",
       "      <td>2</td>\n",
       "      <td>PASS</td>\n",
       "      <td>Assembly</td>\n",
       "      <td>1</td>\n",
       "    </tr>\n",
       "    <tr>\n",
       "      <th>61446</th>\n",
       "      <td>FWI2449-19296</td>\n",
       "      <td>cline4</td>\n",
       "      <td>ATH Firmware Update</td>\n",
       "      <td>ATH Functional Test</td>\n",
       "      <td>2024-12-12 17:50:49</td>\n",
       "      <td>2024-12-12 17:51:25</td>\n",
       "      <td>2</td>\n",
       "      <td>PASS</td>\n",
       "      <td>Test</td>\n",
       "      <td>1</td>\n",
       "    </tr>\n",
       "    <tr>\n",
       "      <th>61623</th>\n",
       "      <td>FWI2449-19296</td>\n",
       "      <td>cline4</td>\n",
       "      <td>ATH Functional Test</td>\n",
       "      <td>ATH Run-in Test</td>\n",
       "      <td>2024-12-12 18:48:32</td>\n",
       "      <td>2024-12-12 18:48:32</td>\n",
       "      <td>3</td>\n",
       "      <td>PASS</td>\n",
       "      <td>Test</td>\n",
       "      <td>1</td>\n",
       "    </tr>\n",
       "    <tr>\n",
       "      <th>62616</th>\n",
       "      <td>FWI2449-19296</td>\n",
       "      <td>cline4</td>\n",
       "      <td>ATH Run-in Test</td>\n",
       "      <td>ATH SDC Test</td>\n",
       "      <td>2024-12-13 07:26:43</td>\n",
       "      <td>2024-12-13 07:26:43</td>\n",
       "      <td>1</td>\n",
       "      <td>PASS</td>\n",
       "      <td>Test</td>\n",
       "      <td>1</td>\n",
       "    </tr>\n",
       "    <tr>\n",
       "      <th>62874</th>\n",
       "      <td>FWI2449-19296</td>\n",
       "      <td>cline4</td>\n",
       "      <td>ATH SDC Test</td>\n",
       "      <td>ATH Google Firmware Update Test</td>\n",
       "      <td>2024-12-13 15:41:19</td>\n",
       "      <td>2024-12-13 15:41:19</td>\n",
       "      <td>2</td>\n",
       "      <td>PASS</td>\n",
       "      <td>Test</td>\n",
       "      <td>1</td>\n",
       "    </tr>\n",
       "    <tr>\n",
       "      <th>62891</th>\n",
       "      <td>FWI2449-19296</td>\n",
       "      <td>cline4</td>\n",
       "      <td>ATH Google Firmware Update Test</td>\n",
       "      <td>Pack</td>\n",
       "      <td>2024-12-13 15:52:23</td>\n",
       "      <td>2024-12-13 15:52:23</td>\n",
       "      <td>2</td>\n",
       "      <td>PASS</td>\n",
       "      <td>Test</td>\n",
       "      <td>1</td>\n",
       "    </tr>\n",
       "    <tr>\n",
       "      <th>14</th>\n",
       "      <td>FWI2449-19296</td>\n",
       "      <td>cline4</td>\n",
       "      <td>Pack</td>\n",
       "      <td>palletized</td>\n",
       "      <td>2024-12-14 07:23:16</td>\n",
       "      <td>2024-12-14 07:24:02</td>\n",
       "      <td>3</td>\n",
       "      <td>PASS</td>\n",
       "      <td>Pack</td>\n",
       "      <td>1</td>\n",
       "    </tr>\n",
       "  </tbody>\n",
       "</table>\n",
       "</div>"
      ],
      "text/plain": [
       "       serial_number    line                     from_station  \\\n",
       "61308  FWI2449-19296  cline4                     ATH Manual 1   \n",
       "61318  FWI2449-19296  cline4                          ATH FAN   \n",
       "61324  FWI2449-19296  cline4                         ATH DIMM   \n",
       "61345  FWI2449-19296  cline4                     ATH Manual 2   \n",
       "61347  FWI2449-19296  cline4                     ATH Manual 3   \n",
       "61353  FWI2449-19296  cline4                     ATH Manual 4   \n",
       "61361  FWI2449-19296  cline4                     ATH Manual 5   \n",
       "61446  FWI2449-19296  cline4              ATH Firmware Update   \n",
       "61623  FWI2449-19296  cline4              ATH Functional Test   \n",
       "62616  FWI2449-19296  cline4                  ATH Run-in Test   \n",
       "62874  FWI2449-19296  cline4                     ATH SDC Test   \n",
       "62891  FWI2449-19296  cline4  ATH Google Firmware Update Test   \n",
       "14     FWI2449-19296  cline4                             Pack   \n",
       "\n",
       "                            to_station     in_station_time  \\\n",
       "61308                          ATH FAN 2024-12-12 16:45:08   \n",
       "61318                         ATH DIMM 2024-12-12 16:48:17   \n",
       "61324                     ATH Manual 2 2024-12-12 16:50:00   \n",
       "61345                     ATH Manual 3 2024-12-12 16:53:45   \n",
       "61347                     ATH Manual 4 2024-12-12 16:54:48   \n",
       "61353                     ATH Manual 5 2024-12-12 16:55:58   \n",
       "61361              ATH Firmware Update 2024-12-12 16:58:27   \n",
       "61446              ATH Functional Test 2024-12-12 17:50:49   \n",
       "61623                  ATH Run-in Test 2024-12-12 18:48:32   \n",
       "62616                     ATH SDC Test 2024-12-13 07:26:43   \n",
       "62874  ATH Google Firmware Update Test 2024-12-13 15:41:19   \n",
       "62891                             Pack 2024-12-13 15:52:23   \n",
       "14                          palletized 2024-12-14 07:23:16   \n",
       "\n",
       "         out_station_time  shift result station_type  attempt  \n",
       "61308 2024-12-12 16:47:28      2   PASS     Assembly        1  \n",
       "61318 2024-12-12 16:49:58      2   PASS     Assembly        1  \n",
       "61324 2024-12-12 16:53:32      2   PASS     Assembly        1  \n",
       "61345 2024-12-12 16:54:48      2   PASS     Assembly        1  \n",
       "61347 2024-12-12 16:55:58      2   PASS     Assembly        1  \n",
       "61353 2024-12-12 16:57:55      2   PASS     Assembly        1  \n",
       "61361 2024-12-12 17:00:36      2   PASS     Assembly        1  \n",
       "61446 2024-12-12 17:51:25      2   PASS         Test        1  \n",
       "61623 2024-12-12 18:48:32      3   PASS         Test        1  \n",
       "62616 2024-12-13 07:26:43      1   PASS         Test        1  \n",
       "62874 2024-12-13 15:41:19      2   PASS         Test        1  \n",
       "62891 2024-12-13 15:52:23      2   PASS         Test        1  \n",
       "14    2024-12-14 07:24:02      3   PASS         Pack        1  "
      ]
     },
     "execution_count": 17,
     "metadata": {},
     "output_type": "execute_result"
    }
   ],
   "source": [
    "athena_shipped_l10_sn_log_df[athena_shipped_l10_sn_log_df.serial_number == \"FWI2449-19296\"]"
   ]
  },
  {
   "cell_type": "code",
   "execution_count": 18,
   "metadata": {},
   "outputs": [
    {
     "data": {
      "text/html": [
       "<div>\n",
       "<style scoped>\n",
       "    .dataframe tbody tr th:only-of-type {\n",
       "        vertical-align: middle;\n",
       "    }\n",
       "\n",
       "    .dataframe tbody tr th {\n",
       "        vertical-align: top;\n",
       "    }\n",
       "\n",
       "    .dataframe thead th {\n",
       "        text-align: right;\n",
       "    }\n",
       "</style>\n",
       "<table border=\"1\" class=\"dataframe\">\n",
       "  <thead>\n",
       "    <tr style=\"text-align: right;\">\n",
       "      <th></th>\n",
       "      <th>serial_number</th>\n",
       "      <th>line</th>\n",
       "      <th>from_station</th>\n",
       "      <th>to_station</th>\n",
       "      <th>in_station_time</th>\n",
       "      <th>out_station_time</th>\n",
       "      <th>shift</th>\n",
       "      <th>result</th>\n",
       "      <th>station_type</th>\n",
       "      <th>attempt</th>\n",
       "    </tr>\n",
       "  </thead>\n",
       "  <tbody>\n",
       "    <tr>\n",
       "      <th>149473</th>\n",
       "      <td>FWI2518-22924</td>\n",
       "      <td>cline4</td>\n",
       "      <td>ATH Manual 1</td>\n",
       "      <td>ATH FAN</td>\n",
       "      <td>2025-06-13 15:59:57</td>\n",
       "      <td>2025-06-13 16:04:17</td>\n",
       "      <td>2</td>\n",
       "      <td>PASS</td>\n",
       "      <td>Assembly</td>\n",
       "      <td>1</td>\n",
       "    </tr>\n",
       "    <tr>\n",
       "      <th>149484</th>\n",
       "      <td>FWI2518-22924</td>\n",
       "      <td>cline4</td>\n",
       "      <td>ATH FAN</td>\n",
       "      <td>ATH DIMM</td>\n",
       "      <td>2025-06-13 16:04:17</td>\n",
       "      <td>2025-06-13 16:12:27</td>\n",
       "      <td>2</td>\n",
       "      <td>PASS</td>\n",
       "      <td>Assembly</td>\n",
       "      <td>1</td>\n",
       "    </tr>\n",
       "    <tr>\n",
       "      <th>149495</th>\n",
       "      <td>FWI2518-22924</td>\n",
       "      <td>cline4</td>\n",
       "      <td>ATH DIMM</td>\n",
       "      <td>ATH Manual 2</td>\n",
       "      <td>2025-06-13 16:12:27</td>\n",
       "      <td>2025-06-13 16:23:30</td>\n",
       "      <td>2</td>\n",
       "      <td>PASS</td>\n",
       "      <td>Assembly</td>\n",
       "      <td>1</td>\n",
       "    </tr>\n",
       "    <tr>\n",
       "      <th>149512</th>\n",
       "      <td>FWI2518-22924</td>\n",
       "      <td>cline4</td>\n",
       "      <td>ATH Manual 2</td>\n",
       "      <td>ATH Manual 3</td>\n",
       "      <td>2025-06-13 16:23:38</td>\n",
       "      <td>2025-06-13 16:24:07</td>\n",
       "      <td>2</td>\n",
       "      <td>PASS</td>\n",
       "      <td>Assembly</td>\n",
       "      <td>1</td>\n",
       "    </tr>\n",
       "    <tr>\n",
       "      <th>149513</th>\n",
       "      <td>FWI2518-22924</td>\n",
       "      <td>cline4</td>\n",
       "      <td>ATH Manual 3</td>\n",
       "      <td>ATH Manual 4</td>\n",
       "      <td>2025-06-13 16:24:07</td>\n",
       "      <td>2025-06-13 16:24:24</td>\n",
       "      <td>2</td>\n",
       "      <td>PASS</td>\n",
       "      <td>Assembly</td>\n",
       "      <td>1</td>\n",
       "    </tr>\n",
       "    <tr>\n",
       "      <th>149515</th>\n",
       "      <td>FWI2518-22924</td>\n",
       "      <td>cline4</td>\n",
       "      <td>ATH Manual 4</td>\n",
       "      <td>ATH Manual 5</td>\n",
       "      <td>2025-06-13 16:24:24</td>\n",
       "      <td>2025-06-13 16:25:53</td>\n",
       "      <td>2</td>\n",
       "      <td>PASS</td>\n",
       "      <td>Assembly</td>\n",
       "      <td>1</td>\n",
       "    </tr>\n",
       "    <tr>\n",
       "      <th>149523</th>\n",
       "      <td>FWI2518-22924</td>\n",
       "      <td>cline4</td>\n",
       "      <td>ATH Manual 5</td>\n",
       "      <td>ATH Firmware Update</td>\n",
       "      <td>2025-06-13 16:26:19</td>\n",
       "      <td>2025-06-13 16:29:12</td>\n",
       "      <td>2</td>\n",
       "      <td>PASS</td>\n",
       "      <td>Assembly</td>\n",
       "      <td>1</td>\n",
       "    </tr>\n",
       "    <tr>\n",
       "      <th>149628</th>\n",
       "      <td>FWI2518-22924</td>\n",
       "      <td>cline4</td>\n",
       "      <td>ATH Firmware Update</td>\n",
       "      <td>ATH Functional Test</td>\n",
       "      <td>2025-06-13 19:07:24</td>\n",
       "      <td>2025-06-13 19:11:59</td>\n",
       "      <td>3</td>\n",
       "      <td>PASS</td>\n",
       "      <td>Test</td>\n",
       "      <td>1</td>\n",
       "    </tr>\n",
       "    <tr>\n",
       "      <th>149640</th>\n",
       "      <td>FWI2518-22924</td>\n",
       "      <td>cline4</td>\n",
       "      <td>ATH Functional Test</td>\n",
       "      <td>ATH Run-in Test</td>\n",
       "      <td>2025-06-13 19:56:42</td>\n",
       "      <td>2025-06-13 19:56:42</td>\n",
       "      <td>3</td>\n",
       "      <td>PASS</td>\n",
       "      <td>Test</td>\n",
       "      <td>1</td>\n",
       "    </tr>\n",
       "    <tr>\n",
       "      <th>149691</th>\n",
       "      <td>FWI2518-22924</td>\n",
       "      <td>cline4</td>\n",
       "      <td>ATH Run-in Test</td>\n",
       "      <td>ATH SDC Test</td>\n",
       "      <td>2025-06-14 08:15:00</td>\n",
       "      <td>2025-06-14 08:15:00</td>\n",
       "      <td>1</td>\n",
       "      <td>PASS</td>\n",
       "      <td>Test</td>\n",
       "      <td>1</td>\n",
       "    </tr>\n",
       "    <tr>\n",
       "      <th>149730</th>\n",
       "      <td>FWI2518-22924</td>\n",
       "      <td>cline4</td>\n",
       "      <td>ATH SDC Test</td>\n",
       "      <td>ATH Google Firmware Update Test</td>\n",
       "      <td>2025-06-14 16:28:30</td>\n",
       "      <td>2025-06-14 16:28:30</td>\n",
       "      <td>2</td>\n",
       "      <td>PASS</td>\n",
       "      <td>Test</td>\n",
       "      <td>1</td>\n",
       "    </tr>\n",
       "    <tr>\n",
       "      <th>149737</th>\n",
       "      <td>FWI2518-22924</td>\n",
       "      <td>cline4</td>\n",
       "      <td>ATH Google Firmware Update Test</td>\n",
       "      <td>Pack</td>\n",
       "      <td>2025-06-14 16:44:17</td>\n",
       "      <td>2025-06-14 16:44:17</td>\n",
       "      <td>2</td>\n",
       "      <td>PASS</td>\n",
       "      <td>Test</td>\n",
       "      <td>1</td>\n",
       "    </tr>\n",
       "    <tr>\n",
       "      <th>149831</th>\n",
       "      <td>FWI2518-22924</td>\n",
       "      <td>cline4</td>\n",
       "      <td>Pack</td>\n",
       "      <td>palletized</td>\n",
       "      <td>2025-06-17 08:03:10</td>\n",
       "      <td>2025-06-17 08:04:13</td>\n",
       "      <td>1</td>\n",
       "      <td>PASS</td>\n",
       "      <td>Pack</td>\n",
       "      <td>1</td>\n",
       "    </tr>\n",
       "  </tbody>\n",
       "</table>\n",
       "</div>"
      ],
      "text/plain": [
       "        serial_number    line                     from_station  \\\n",
       "149473  FWI2518-22924  cline4                     ATH Manual 1   \n",
       "149484  FWI2518-22924  cline4                          ATH FAN   \n",
       "149495  FWI2518-22924  cline4                         ATH DIMM   \n",
       "149512  FWI2518-22924  cline4                     ATH Manual 2   \n",
       "149513  FWI2518-22924  cline4                     ATH Manual 3   \n",
       "149515  FWI2518-22924  cline4                     ATH Manual 4   \n",
       "149523  FWI2518-22924  cline4                     ATH Manual 5   \n",
       "149628  FWI2518-22924  cline4              ATH Firmware Update   \n",
       "149640  FWI2518-22924  cline4              ATH Functional Test   \n",
       "149691  FWI2518-22924  cline4                  ATH Run-in Test   \n",
       "149730  FWI2518-22924  cline4                     ATH SDC Test   \n",
       "149737  FWI2518-22924  cline4  ATH Google Firmware Update Test   \n",
       "149831  FWI2518-22924  cline4                             Pack   \n",
       "\n",
       "                             to_station     in_station_time  \\\n",
       "149473                          ATH FAN 2025-06-13 15:59:57   \n",
       "149484                         ATH DIMM 2025-06-13 16:04:17   \n",
       "149495                     ATH Manual 2 2025-06-13 16:12:27   \n",
       "149512                     ATH Manual 3 2025-06-13 16:23:38   \n",
       "149513                     ATH Manual 4 2025-06-13 16:24:07   \n",
       "149515                     ATH Manual 5 2025-06-13 16:24:24   \n",
       "149523              ATH Firmware Update 2025-06-13 16:26:19   \n",
       "149628              ATH Functional Test 2025-06-13 19:07:24   \n",
       "149640                  ATH Run-in Test 2025-06-13 19:56:42   \n",
       "149691                     ATH SDC Test 2025-06-14 08:15:00   \n",
       "149730  ATH Google Firmware Update Test 2025-06-14 16:28:30   \n",
       "149737                             Pack 2025-06-14 16:44:17   \n",
       "149831                       palletized 2025-06-17 08:03:10   \n",
       "\n",
       "          out_station_time  shift result station_type  attempt  \n",
       "149473 2025-06-13 16:04:17      2   PASS     Assembly        1  \n",
       "149484 2025-06-13 16:12:27      2   PASS     Assembly        1  \n",
       "149495 2025-06-13 16:23:30      2   PASS     Assembly        1  \n",
       "149512 2025-06-13 16:24:07      2   PASS     Assembly        1  \n",
       "149513 2025-06-13 16:24:24      2   PASS     Assembly        1  \n",
       "149515 2025-06-13 16:25:53      2   PASS     Assembly        1  \n",
       "149523 2025-06-13 16:29:12      2   PASS     Assembly        1  \n",
       "149628 2025-06-13 19:11:59      3   PASS         Test        1  \n",
       "149640 2025-06-13 19:56:42      3   PASS         Test        1  \n",
       "149691 2025-06-14 08:15:00      1   PASS         Test        1  \n",
       "149730 2025-06-14 16:28:30      2   PASS         Test        1  \n",
       "149737 2025-06-14 16:44:17      2   PASS         Test        1  \n",
       "149831 2025-06-17 08:04:13      1   PASS         Pack        1  "
      ]
     },
     "execution_count": 18,
     "metadata": {},
     "output_type": "execute_result"
    }
   ],
   "source": [
    "athena_shipped_l10_sn_log_df[athena_shipped_l10_sn_log_df.serial_number == \"FWI2518-22924\"]"
   ]
  },
  {
   "cell_type": "code",
   "execution_count": 19,
   "metadata": {},
   "outputs": [
    {
     "data": {
      "text/html": [
       "<div>\n",
       "<style scoped>\n",
       "    .dataframe tbody tr th:only-of-type {\n",
       "        vertical-align: middle;\n",
       "    }\n",
       "\n",
       "    .dataframe tbody tr th {\n",
       "        vertical-align: top;\n",
       "    }\n",
       "\n",
       "    .dataframe thead th {\n",
       "        text-align: right;\n",
       "    }\n",
       "</style>\n",
       "<table border=\"1\" class=\"dataframe\">\n",
       "  <thead>\n",
       "    <tr style=\"text-align: right;\">\n",
       "      <th></th>\n",
       "      <th>serial_number</th>\n",
       "      <th>line</th>\n",
       "      <th>from_station</th>\n",
       "      <th>to_station</th>\n",
       "      <th>in_station_time</th>\n",
       "      <th>out_station_time</th>\n",
       "      <th>shift</th>\n",
       "      <th>result</th>\n",
       "      <th>station_type</th>\n",
       "      <th>attempt</th>\n",
       "    </tr>\n",
       "  </thead>\n",
       "  <tbody>\n",
       "    <tr>\n",
       "      <th>143584</th>\n",
       "      <td>FWI2517-04599</td>\n",
       "      <td>cline6</td>\n",
       "      <td>ATH Manual 1</td>\n",
       "      <td>ATH FAN</td>\n",
       "      <td>2025-04-30 08:30:48</td>\n",
       "      <td>2025-04-30 08:34:23</td>\n",
       "      <td>1</td>\n",
       "      <td>PASS</td>\n",
       "      <td>Assembly</td>\n",
       "      <td>1</td>\n",
       "    </tr>\n",
       "    <tr>\n",
       "      <th>143596</th>\n",
       "      <td>FWI2517-04599</td>\n",
       "      <td>cline6</td>\n",
       "      <td>ATH FAN</td>\n",
       "      <td>ATH DIMM</td>\n",
       "      <td>2025-04-30 08:34:54</td>\n",
       "      <td>2025-04-30 08:35:57</td>\n",
       "      <td>1</td>\n",
       "      <td>PASS</td>\n",
       "      <td>Assembly</td>\n",
       "      <td>1</td>\n",
       "    </tr>\n",
       "    <tr>\n",
       "      <th>143164</th>\n",
       "      <td>FWI2517-04599</td>\n",
       "      <td>cline6</td>\n",
       "      <td>ATH DIMM</td>\n",
       "      <td>ATH Manual 2</td>\n",
       "      <td>2025-04-30 08:35:57</td>\n",
       "      <td>2025-04-30 09:12:17</td>\n",
       "      <td>1</td>\n",
       "      <td>PASS</td>\n",
       "      <td>Assembly</td>\n",
       "      <td>1</td>\n",
       "    </tr>\n",
       "    <tr>\n",
       "      <th>143732</th>\n",
       "      <td>FWI2517-04599</td>\n",
       "      <td>cline6</td>\n",
       "      <td>ATH Manual 2</td>\n",
       "      <td>ATH Manual 3</td>\n",
       "      <td>2025-04-30 09:15:19</td>\n",
       "      <td>2025-04-30 09:16:26</td>\n",
       "      <td>1</td>\n",
       "      <td>PASS</td>\n",
       "      <td>Assembly</td>\n",
       "      <td>1</td>\n",
       "    </tr>\n",
       "    <tr>\n",
       "      <th>144112</th>\n",
       "      <td>FWI2517-04599</td>\n",
       "      <td>cline6</td>\n",
       "      <td>ATH Manual 3</td>\n",
       "      <td>ATH Manual 4</td>\n",
       "      <td>2025-04-30 13:39:40</td>\n",
       "      <td>2025-04-30 13:40:58</td>\n",
       "      <td>1</td>\n",
       "      <td>PASS</td>\n",
       "      <td>Assembly</td>\n",
       "      <td>1</td>\n",
       "    </tr>\n",
       "    <tr>\n",
       "      <th>144122</th>\n",
       "      <td>FWI2517-04599</td>\n",
       "      <td>cline6</td>\n",
       "      <td>ATH Manual 4</td>\n",
       "      <td>ATH Manual 5</td>\n",
       "      <td>2025-04-30 13:47:58</td>\n",
       "      <td>2025-04-30 13:48:44</td>\n",
       "      <td>1</td>\n",
       "      <td>PASS</td>\n",
       "      <td>Assembly</td>\n",
       "      <td>1</td>\n",
       "    </tr>\n",
       "    <tr>\n",
       "      <th>144123</th>\n",
       "      <td>FWI2517-04599</td>\n",
       "      <td>cline6</td>\n",
       "      <td>ATH Manual 5</td>\n",
       "      <td>ATH Firmware Update</td>\n",
       "      <td>2025-04-30 13:54:37</td>\n",
       "      <td>2025-04-30 13:54:53</td>\n",
       "      <td>1</td>\n",
       "      <td>PASS</td>\n",
       "      <td>Assembly</td>\n",
       "      <td>1</td>\n",
       "    </tr>\n",
       "    <tr>\n",
       "      <th>144160</th>\n",
       "      <td>FWI2517-04599</td>\n",
       "      <td>cline6</td>\n",
       "      <td>ATH Firmware Update</td>\n",
       "      <td>ATH FAN</td>\n",
       "      <td>2025-04-30 15:11:18</td>\n",
       "      <td>2025-04-30 15:11:42</td>\n",
       "      <td>1</td>\n",
       "      <td>FORCE</td>\n",
       "      <td>Test</td>\n",
       "      <td>1</td>\n",
       "    </tr>\n",
       "    <tr>\n",
       "      <th>144163</th>\n",
       "      <td>FWI2517-04599</td>\n",
       "      <td>cline6</td>\n",
       "      <td>ATH FAN</td>\n",
       "      <td>ATH DIMM</td>\n",
       "      <td>2025-04-30 15:11:42</td>\n",
       "      <td>2025-04-30 15:12:44</td>\n",
       "      <td>1</td>\n",
       "      <td>PASS</td>\n",
       "      <td>Assembly</td>\n",
       "      <td>2</td>\n",
       "    </tr>\n",
       "    <tr>\n",
       "      <th>144164</th>\n",
       "      <td>FWI2517-04599</td>\n",
       "      <td>cline6</td>\n",
       "      <td>ATH DIMM</td>\n",
       "      <td>ATH Google Firmware Update Test</td>\n",
       "      <td>2025-04-30 15:13:44</td>\n",
       "      <td>2025-04-30 15:13:44</td>\n",
       "      <td>1</td>\n",
       "      <td>FORCE</td>\n",
       "      <td>Assembly</td>\n",
       "      <td>2</td>\n",
       "    </tr>\n",
       "    <tr>\n",
       "      <th>144240</th>\n",
       "      <td>FWI2517-04599</td>\n",
       "      <td>cline6</td>\n",
       "      <td>ATH Google Firmware Update Test</td>\n",
       "      <td>Pack</td>\n",
       "      <td>2025-04-30 17:13:08</td>\n",
       "      <td>2025-04-30 17:13:08</td>\n",
       "      <td>2</td>\n",
       "      <td>PASS</td>\n",
       "      <td>Test</td>\n",
       "      <td>1</td>\n",
       "    </tr>\n",
       "    <tr>\n",
       "      <th>144702</th>\n",
       "      <td>FWI2517-04599</td>\n",
       "      <td>cline6</td>\n",
       "      <td>Pack</td>\n",
       "      <td>palletized</td>\n",
       "      <td>2025-05-01 18:54:21</td>\n",
       "      <td>2025-05-01 18:54:33</td>\n",
       "      <td>2</td>\n",
       "      <td>PASS</td>\n",
       "      <td>Pack</td>\n",
       "      <td>1</td>\n",
       "    </tr>\n",
       "  </tbody>\n",
       "</table>\n",
       "</div>"
      ],
      "text/plain": [
       "        serial_number    line                     from_station  \\\n",
       "143584  FWI2517-04599  cline6                     ATH Manual 1   \n",
       "143596  FWI2517-04599  cline6                          ATH FAN   \n",
       "143164  FWI2517-04599  cline6                         ATH DIMM   \n",
       "143732  FWI2517-04599  cline6                     ATH Manual 2   \n",
       "144112  FWI2517-04599  cline6                     ATH Manual 3   \n",
       "144122  FWI2517-04599  cline6                     ATH Manual 4   \n",
       "144123  FWI2517-04599  cline6                     ATH Manual 5   \n",
       "144160  FWI2517-04599  cline6              ATH Firmware Update   \n",
       "144163  FWI2517-04599  cline6                          ATH FAN   \n",
       "144164  FWI2517-04599  cline6                         ATH DIMM   \n",
       "144240  FWI2517-04599  cline6  ATH Google Firmware Update Test   \n",
       "144702  FWI2517-04599  cline6                             Pack   \n",
       "\n",
       "                             to_station     in_station_time  \\\n",
       "143584                          ATH FAN 2025-04-30 08:30:48   \n",
       "143596                         ATH DIMM 2025-04-30 08:34:54   \n",
       "143164                     ATH Manual 2 2025-04-30 08:35:57   \n",
       "143732                     ATH Manual 3 2025-04-30 09:15:19   \n",
       "144112                     ATH Manual 4 2025-04-30 13:39:40   \n",
       "144122                     ATH Manual 5 2025-04-30 13:47:58   \n",
       "144123              ATH Firmware Update 2025-04-30 13:54:37   \n",
       "144160                          ATH FAN 2025-04-30 15:11:18   \n",
       "144163                         ATH DIMM 2025-04-30 15:11:42   \n",
       "144164  ATH Google Firmware Update Test 2025-04-30 15:13:44   \n",
       "144240                             Pack 2025-04-30 17:13:08   \n",
       "144702                       palletized 2025-05-01 18:54:21   \n",
       "\n",
       "          out_station_time  shift result station_type  attempt  \n",
       "143584 2025-04-30 08:34:23      1   PASS     Assembly        1  \n",
       "143596 2025-04-30 08:35:57      1   PASS     Assembly        1  \n",
       "143164 2025-04-30 09:12:17      1   PASS     Assembly        1  \n",
       "143732 2025-04-30 09:16:26      1   PASS     Assembly        1  \n",
       "144112 2025-04-30 13:40:58      1   PASS     Assembly        1  \n",
       "144122 2025-04-30 13:48:44      1   PASS     Assembly        1  \n",
       "144123 2025-04-30 13:54:53      1   PASS     Assembly        1  \n",
       "144160 2025-04-30 15:11:42      1  FORCE         Test        1  \n",
       "144163 2025-04-30 15:12:44      1   PASS     Assembly        2  \n",
       "144164 2025-04-30 15:13:44      1  FORCE     Assembly        2  \n",
       "144240 2025-04-30 17:13:08      2   PASS         Test        1  \n",
       "144702 2025-05-01 18:54:33      2   PASS         Pack        1  "
      ]
     },
     "execution_count": 19,
     "metadata": {},
     "output_type": "execute_result"
    }
   ],
   "source": [
    "athena_shipped_l10_sn_log_df[athena_shipped_l10_sn_log_df.serial_number == \"FWI2517-04599\"]"
   ]
  },
  {
   "cell_type": "code",
   "execution_count": 20,
   "metadata": {},
   "outputs": [
    {
     "data": {
      "application/vnd.plotly.v1+json": {
       "config": {
        "plotlyServerURL": "https://plot.ly"
       },
       "data": [
        {
         "link": {
          "source": {
           "bdata": "AAAAAAUFBQYGBgYGBgcHBwcBAQECAgMDAwQEBAQICAgIDAwKCgoKCg0NDQ0ODg4ODgsLCwsQCQkJCQkJCQkJCQkPDw==",
           "dtype": "i1"
          },
          "target": {
           "bdata": "AQIDBAAFAgAFBgcICQYHCgkGCwkFAgUDBAUCBAgCCAwJBgwGBw0LCQYBDgkGBwEOCQYHCg8HEQYHAQMMCg0OEAkGDw==",
           "dtype": "i1"
          },
          "value": {
           "bdata": "AQAjAPUnAQAgKA8AAwABAAEAHwBgKgEAsAgPAAEALC2pBAIA5ieNACgoowAEAAkA8CcCAAEAEADrJwIAKADnJwIA5ycmAAUAAwBuKAEA5QkLAOYnLABxAQEAJgAEABMAAgAEAAIAAQDfJwEAAQAOC1gHigABAAEALwUgAQEAAgCmBAEAswA=",
           "dtype": "i2"
          }
         },
         "node": {
          "label": [
           "ATH DIMM",
           "ATH Google Firmware Update Test",
           "ATH Manual 1",
           "ATH Manual 2",
           "ATH Manual 3",
           "ATH FAN",
           "ATH Firmware Update",
           "ATH Functional Test",
           "ATH Manual 4",
           "Repair",
           "ATH Run-in Test",
           "Pack",
           "ATH Manual 5",
           "ATH SDC Test",
           "Athena ORT",
           "palletized",
           "Palletized",
           ""
          ]
         },
         "type": "sankey"
        }
       ],
       "layout": {
        "font": {
         "size": 10
        },
        "template": {
         "data": {
          "bar": [
           {
            "error_x": {
             "color": "#2a3f5f"
            },
            "error_y": {
             "color": "#2a3f5f"
            },
            "marker": {
             "line": {
              "color": "#E5ECF6",
              "width": 0.5
             },
             "pattern": {
              "fillmode": "overlay",
              "size": 10,
              "solidity": 0.2
             }
            },
            "type": "bar"
           }
          ],
          "barpolar": [
           {
            "marker": {
             "line": {
              "color": "#E5ECF6",
              "width": 0.5
             },
             "pattern": {
              "fillmode": "overlay",
              "size": 10,
              "solidity": 0.2
             }
            },
            "type": "barpolar"
           }
          ],
          "carpet": [
           {
            "aaxis": {
             "endlinecolor": "#2a3f5f",
             "gridcolor": "white",
             "linecolor": "white",
             "minorgridcolor": "white",
             "startlinecolor": "#2a3f5f"
            },
            "baxis": {
             "endlinecolor": "#2a3f5f",
             "gridcolor": "white",
             "linecolor": "white",
             "minorgridcolor": "white",
             "startlinecolor": "#2a3f5f"
            },
            "type": "carpet"
           }
          ],
          "choropleth": [
           {
            "colorbar": {
             "outlinewidth": 0,
             "ticks": ""
            },
            "type": "choropleth"
           }
          ],
          "contour": [
           {
            "colorbar": {
             "outlinewidth": 0,
             "ticks": ""
            },
            "colorscale": [
             [
              0,
              "#0d0887"
             ],
             [
              0.1111111111111111,
              "#46039f"
             ],
             [
              0.2222222222222222,
              "#7201a8"
             ],
             [
              0.3333333333333333,
              "#9c179e"
             ],
             [
              0.4444444444444444,
              "#bd3786"
             ],
             [
              0.5555555555555556,
              "#d8576b"
             ],
             [
              0.6666666666666666,
              "#ed7953"
             ],
             [
              0.7777777777777778,
              "#fb9f3a"
             ],
             [
              0.8888888888888888,
              "#fdca26"
             ],
             [
              1,
              "#f0f921"
             ]
            ],
            "type": "contour"
           }
          ],
          "contourcarpet": [
           {
            "colorbar": {
             "outlinewidth": 0,
             "ticks": ""
            },
            "type": "contourcarpet"
           }
          ],
          "heatmap": [
           {
            "colorbar": {
             "outlinewidth": 0,
             "ticks": ""
            },
            "colorscale": [
             [
              0,
              "#0d0887"
             ],
             [
              0.1111111111111111,
              "#46039f"
             ],
             [
              0.2222222222222222,
              "#7201a8"
             ],
             [
              0.3333333333333333,
              "#9c179e"
             ],
             [
              0.4444444444444444,
              "#bd3786"
             ],
             [
              0.5555555555555556,
              "#d8576b"
             ],
             [
              0.6666666666666666,
              "#ed7953"
             ],
             [
              0.7777777777777778,
              "#fb9f3a"
             ],
             [
              0.8888888888888888,
              "#fdca26"
             ],
             [
              1,
              "#f0f921"
             ]
            ],
            "type": "heatmap"
           }
          ],
          "histogram": [
           {
            "marker": {
             "pattern": {
              "fillmode": "overlay",
              "size": 10,
              "solidity": 0.2
             }
            },
            "type": "histogram"
           }
          ],
          "histogram2d": [
           {
            "colorbar": {
             "outlinewidth": 0,
             "ticks": ""
            },
            "colorscale": [
             [
              0,
              "#0d0887"
             ],
             [
              0.1111111111111111,
              "#46039f"
             ],
             [
              0.2222222222222222,
              "#7201a8"
             ],
             [
              0.3333333333333333,
              "#9c179e"
             ],
             [
              0.4444444444444444,
              "#bd3786"
             ],
             [
              0.5555555555555556,
              "#d8576b"
             ],
             [
              0.6666666666666666,
              "#ed7953"
             ],
             [
              0.7777777777777778,
              "#fb9f3a"
             ],
             [
              0.8888888888888888,
              "#fdca26"
             ],
             [
              1,
              "#f0f921"
             ]
            ],
            "type": "histogram2d"
           }
          ],
          "histogram2dcontour": [
           {
            "colorbar": {
             "outlinewidth": 0,
             "ticks": ""
            },
            "colorscale": [
             [
              0,
              "#0d0887"
             ],
             [
              0.1111111111111111,
              "#46039f"
             ],
             [
              0.2222222222222222,
              "#7201a8"
             ],
             [
              0.3333333333333333,
              "#9c179e"
             ],
             [
              0.4444444444444444,
              "#bd3786"
             ],
             [
              0.5555555555555556,
              "#d8576b"
             ],
             [
              0.6666666666666666,
              "#ed7953"
             ],
             [
              0.7777777777777778,
              "#fb9f3a"
             ],
             [
              0.8888888888888888,
              "#fdca26"
             ],
             [
              1,
              "#f0f921"
             ]
            ],
            "type": "histogram2dcontour"
           }
          ],
          "mesh3d": [
           {
            "colorbar": {
             "outlinewidth": 0,
             "ticks": ""
            },
            "type": "mesh3d"
           }
          ],
          "parcoords": [
           {
            "line": {
             "colorbar": {
              "outlinewidth": 0,
              "ticks": ""
             }
            },
            "type": "parcoords"
           }
          ],
          "pie": [
           {
            "automargin": true,
            "type": "pie"
           }
          ],
          "scatter": [
           {
            "fillpattern": {
             "fillmode": "overlay",
             "size": 10,
             "solidity": 0.2
            },
            "type": "scatter"
           }
          ],
          "scatter3d": [
           {
            "line": {
             "colorbar": {
              "outlinewidth": 0,
              "ticks": ""
             }
            },
            "marker": {
             "colorbar": {
              "outlinewidth": 0,
              "ticks": ""
             }
            },
            "type": "scatter3d"
           }
          ],
          "scattercarpet": [
           {
            "marker": {
             "colorbar": {
              "outlinewidth": 0,
              "ticks": ""
             }
            },
            "type": "scattercarpet"
           }
          ],
          "scattergeo": [
           {
            "marker": {
             "colorbar": {
              "outlinewidth": 0,
              "ticks": ""
             }
            },
            "type": "scattergeo"
           }
          ],
          "scattergl": [
           {
            "marker": {
             "colorbar": {
              "outlinewidth": 0,
              "ticks": ""
             }
            },
            "type": "scattergl"
           }
          ],
          "scattermap": [
           {
            "marker": {
             "colorbar": {
              "outlinewidth": 0,
              "ticks": ""
             }
            },
            "type": "scattermap"
           }
          ],
          "scattermapbox": [
           {
            "marker": {
             "colorbar": {
              "outlinewidth": 0,
              "ticks": ""
             }
            },
            "type": "scattermapbox"
           }
          ],
          "scatterpolar": [
           {
            "marker": {
             "colorbar": {
              "outlinewidth": 0,
              "ticks": ""
             }
            },
            "type": "scatterpolar"
           }
          ],
          "scatterpolargl": [
           {
            "marker": {
             "colorbar": {
              "outlinewidth": 0,
              "ticks": ""
             }
            },
            "type": "scatterpolargl"
           }
          ],
          "scatterternary": [
           {
            "marker": {
             "colorbar": {
              "outlinewidth": 0,
              "ticks": ""
             }
            },
            "type": "scatterternary"
           }
          ],
          "surface": [
           {
            "colorbar": {
             "outlinewidth": 0,
             "ticks": ""
            },
            "colorscale": [
             [
              0,
              "#0d0887"
             ],
             [
              0.1111111111111111,
              "#46039f"
             ],
             [
              0.2222222222222222,
              "#7201a8"
             ],
             [
              0.3333333333333333,
              "#9c179e"
             ],
             [
              0.4444444444444444,
              "#bd3786"
             ],
             [
              0.5555555555555556,
              "#d8576b"
             ],
             [
              0.6666666666666666,
              "#ed7953"
             ],
             [
              0.7777777777777778,
              "#fb9f3a"
             ],
             [
              0.8888888888888888,
              "#fdca26"
             ],
             [
              1,
              "#f0f921"
             ]
            ],
            "type": "surface"
           }
          ],
          "table": [
           {
            "cells": {
             "fill": {
              "color": "#EBF0F8"
             },
             "line": {
              "color": "white"
             }
            },
            "header": {
             "fill": {
              "color": "#C8D4E3"
             },
             "line": {
              "color": "white"
             }
            },
            "type": "table"
           }
          ]
         },
         "layout": {
          "annotationdefaults": {
           "arrowcolor": "#2a3f5f",
           "arrowhead": 0,
           "arrowwidth": 1
          },
          "autotypenumbers": "strict",
          "coloraxis": {
           "colorbar": {
            "outlinewidth": 0,
            "ticks": ""
           }
          },
          "colorscale": {
           "diverging": [
            [
             0,
             "#8e0152"
            ],
            [
             0.1,
             "#c51b7d"
            ],
            [
             0.2,
             "#de77ae"
            ],
            [
             0.3,
             "#f1b6da"
            ],
            [
             0.4,
             "#fde0ef"
            ],
            [
             0.5,
             "#f7f7f7"
            ],
            [
             0.6,
             "#e6f5d0"
            ],
            [
             0.7,
             "#b8e186"
            ],
            [
             0.8,
             "#7fbc41"
            ],
            [
             0.9,
             "#4d9221"
            ],
            [
             1,
             "#276419"
            ]
           ],
           "sequential": [
            [
             0,
             "#0d0887"
            ],
            [
             0.1111111111111111,
             "#46039f"
            ],
            [
             0.2222222222222222,
             "#7201a8"
            ],
            [
             0.3333333333333333,
             "#9c179e"
            ],
            [
             0.4444444444444444,
             "#bd3786"
            ],
            [
             0.5555555555555556,
             "#d8576b"
            ],
            [
             0.6666666666666666,
             "#ed7953"
            ],
            [
             0.7777777777777778,
             "#fb9f3a"
            ],
            [
             0.8888888888888888,
             "#fdca26"
            ],
            [
             1,
             "#f0f921"
            ]
           ],
           "sequentialminus": [
            [
             0,
             "#0d0887"
            ],
            [
             0.1111111111111111,
             "#46039f"
            ],
            [
             0.2222222222222222,
             "#7201a8"
            ],
            [
             0.3333333333333333,
             "#9c179e"
            ],
            [
             0.4444444444444444,
             "#bd3786"
            ],
            [
             0.5555555555555556,
             "#d8576b"
            ],
            [
             0.6666666666666666,
             "#ed7953"
            ],
            [
             0.7777777777777778,
             "#fb9f3a"
            ],
            [
             0.8888888888888888,
             "#fdca26"
            ],
            [
             1,
             "#f0f921"
            ]
           ]
          },
          "colorway": [
           "#636efa",
           "#EF553B",
           "#00cc96",
           "#ab63fa",
           "#FFA15A",
           "#19d3f3",
           "#FF6692",
           "#B6E880",
           "#FF97FF",
           "#FECB52"
          ],
          "font": {
           "color": "#2a3f5f"
          },
          "geo": {
           "bgcolor": "white",
           "lakecolor": "white",
           "landcolor": "#E5ECF6",
           "showlakes": true,
           "showland": true,
           "subunitcolor": "white"
          },
          "hoverlabel": {
           "align": "left"
          },
          "hovermode": "closest",
          "mapbox": {
           "style": "light"
          },
          "paper_bgcolor": "white",
          "plot_bgcolor": "#E5ECF6",
          "polar": {
           "angularaxis": {
            "gridcolor": "white",
            "linecolor": "white",
            "ticks": ""
           },
           "bgcolor": "#E5ECF6",
           "radialaxis": {
            "gridcolor": "white",
            "linecolor": "white",
            "ticks": ""
           }
          },
          "scene": {
           "xaxis": {
            "backgroundcolor": "#E5ECF6",
            "gridcolor": "white",
            "gridwidth": 2,
            "linecolor": "white",
            "showbackground": true,
            "ticks": "",
            "zerolinecolor": "white"
           },
           "yaxis": {
            "backgroundcolor": "#E5ECF6",
            "gridcolor": "white",
            "gridwidth": 2,
            "linecolor": "white",
            "showbackground": true,
            "ticks": "",
            "zerolinecolor": "white"
           },
           "zaxis": {
            "backgroundcolor": "#E5ECF6",
            "gridcolor": "white",
            "gridwidth": 2,
            "linecolor": "white",
            "showbackground": true,
            "ticks": "",
            "zerolinecolor": "white"
           }
          },
          "shapedefaults": {
           "line": {
            "color": "#2a3f5f"
           }
          },
          "ternary": {
           "aaxis": {
            "gridcolor": "white",
            "linecolor": "white",
            "ticks": ""
           },
           "baxis": {
            "gridcolor": "white",
            "linecolor": "white",
            "ticks": ""
           },
           "bgcolor": "#E5ECF6",
           "caxis": {
            "gridcolor": "white",
            "linecolor": "white",
            "ticks": ""
           }
          },
          "title": {
           "x": 0.05
          },
          "xaxis": {
           "automargin": true,
           "gridcolor": "white",
           "linecolor": "white",
           "ticks": "",
           "title": {
            "standoff": 15
           },
           "zerolinecolor": "white",
           "zerolinewidth": 2
          },
          "yaxis": {
           "automargin": true,
           "gridcolor": "white",
           "linecolor": "white",
           "ticks": "",
           "title": {
            "standoff": 15
           },
           "zerolinecolor": "white",
           "zerolinewidth": 2
          }
         }
        },
        "title": {
         "text": "Station Transition Flow"
        }
       }
      }
     },
     "metadata": {},
     "output_type": "display_data"
    }
   ],
   "source": [
    "import pandas as pd\n",
    "import matplotlib.pyplot as plt\n",
    "import seaborn as sns\n",
    "from plotly import graph_objects as go\n",
    "\n",
    "# Load the pre-processed DataFrame `df_l10` from previous steps\n",
    "df = athena_shipped_l10_sn_log_df.copy()\n",
    "\n",
    "# ========== Sankey Diagram: Station Transition Flow ==========\n",
    "# Drop rows where to_station is missing for valid transitions\n",
    "transition_counts = df.dropna(subset=[\"to_station\"]).groupby([\"from_station\", \"to_station\"]).size().reset_index(name=\"count\")\n",
    "\n",
    "labels = pd.unique(transition_counts[[\"from_station\", \"to_station\"]].values.ravel())\n",
    "label_to_idx = {label: i for i, label in enumerate(labels)}\n",
    "\n",
    "source = transition_counts[\"from_station\"].map(label_to_idx)\n",
    "target = transition_counts[\"to_station\"].map(label_to_idx)\n",
    "value = transition_counts[\"count\"]\n",
    "\n",
    "sankey_fig = go.Figure(data=[go.Sankey(\n",
    "    node=dict(label=labels.tolist()),\n",
    "    link=dict(source=source, target=target, value=value)\n",
    ")])\n",
    "sankey_fig.update_layout(title=\"Station Transition Flow\", font_size=10)\n",
    "sankey_fig"
   ]
  },
  {
   "cell_type": "code",
   "execution_count": 21,
   "metadata": {},
   "outputs": [
    {
     "data": {
      "image/png": "[encoded data removed]",
      "text/plain": [
       "<Figure size 1200x500 with 1 Axes>"
      ]
     },
     "metadata": {},
     "output_type": "display_data"
    }
   ],
   "source": [
    "\n",
    "# ========== Bar Plot: Station Result Count ==========\n",
    "plt.figure(figsize=(12, 5))\n",
    "sns.countplot(data=df[df[\"result\"].notna()], x=\"from_station\", hue=\"result\", order=df[\"from_station\"].value_counts().index)\n",
    "plt.xticks(rotation=90)\n",
    "plt.title(\"Station Results Count (PASS / FAIL / FORCE / None)\")\n",
    "plt.tight_layout()\n",
    "plt.show()\n"
   ]
  },
  {
   "cell_type": "code",
   "execution_count": 22,
   "metadata": {},
   "outputs": [
    {
     "data": {
      "image/png": "[encoded data removed]",
      "text/plain": [
       "<Figure size 2000x600 with 2 Axes>"
      ]
     },
     "metadata": {},
     "output_type": "display_data"
    }
   ],
   "source": [
    "\n",
    "# ========== Heatmap: Attempt Count by Station ==========\n",
    "attempt_summary = df.groupby([\"from_station\", \"attempt\"]).size().unstack(fill_value=0)\n",
    "plt.figure(figsize=(20, 6))\n",
    "sns.heatmap(attempt_summary, annot=True, fmt=\"d\", cmap=\"YlGnBu\")\n",
    "plt.title(\"Attempt Distribution by Station\")\n",
    "plt.xlabel(\"Attempt\")\n",
    "plt.ylabel(\"Station\")\n",
    "plt.tight_layout()\n",
    "plt.show()\n"
   ]
  },
  {
   "cell_type": "code",
   "execution_count": 23,
   "metadata": {},
   "outputs": [
    {
     "data": {
      "image/png": "[encoded data removed]",
      "text/plain": [
       "<Figure size 1400x600 with 1 Axes>"
      ]
     },
     "metadata": {},
     "output_type": "display_data"
    }
   ],
   "source": [
    "\n",
    "# ========== Boxplot: Duration by Station Type ==========\n",
    "df[\"duration_minutes\"] = (pd.to_datetime(df[\"out_station_time\"]) - pd.to_datetime(df[\"in_station_time\"])).dt.total_seconds() / 60\n",
    "plt.figure(figsize=(14, 6))\n",
    "sns.boxplot(data=df[df[\"out_station_time\"].notna()],\n",
    "            x=\"from_station\", y=\"duration_minutes\", hue=\"station_type\", showfliers=False)\n",
    "plt.xticks(rotation=90)\n",
    "plt.title(\"Station Duration (minutes) by Type\")\n",
    "plt.tight_layout()\n",
    "plt.show()\n",
    "\n",
    "\n",
    "\n"
   ]
  },
  {
   "cell_type": "markdown",
   "metadata": {},
   "source": [
    "# 🔧 Production Assembly Traceability: Analysis & Metrics Brainstorm\n",
    "\n",
    "## Overview\n",
    "We’re analyzing the full traceability and efficiency of a serial-number-based manufacturing flow. Key characteristics:\n",
    "\n",
    "- **Serial Number** = Final unit with release → pack & ship info  \n",
    "- **Model IDs** = Components within serial, Mobo/Agora assembled in **L6**, then send to **L10** to assemble with Gulp and other components\n",
    "- **Logs** available for:\n",
    "  - L6 (detailed: route/line/station)\n",
    "  - L10 (simplified: station-level)\n",
    "  - Mobo/Agora/Gulp/Athena GA Boards (separate log)\n",
    "- Each log entry includes:\n",
    "  - From/To station (and sometimes line/route)\n",
    "  - In/Out time\n",
    "  - Shift, result, station type, attempt count\n",
    "\n",
    "---\n",
    "\n",
    "## Key Analysis & Metrics\n",
    "\n",
    "### 1. End-to-End Cycle Time\n",
    "- Serial-level: `Pack & Ship Date - Release Date`\n",
    "- Component-level:\n",
    "  - L6 start → L10 end\n",
    "- Break down by:\n",
    "  - Model ID\n",
    "  - Station / Route\n",
    "  - Shift\n",
    "  - Result & Attempts\n",
    "\n",
    "---\n",
    "\n",
    "### 2. Station-Level Process Metrics\n",
    "- Time spent at each station = `Out Time - In Time`\n",
    "- Metrics:\n",
    "  - Mean, Median, Std Dev\n",
    "  - Identify slow stations (bottlenecks)\n",
    "  - Compare between L6/L10 groups\n",
    "\n",
    "---\n",
    "\n",
    "### 3. Yield & Retest Rates\n",
    "- First Pass Yield (FPY) = % passed in 1 attempt\n",
    "- Reassemble/Retest rate = % with `attempt_count > 1`\n",
    "- Final Yield = Total pass / total processed\n",
    "- By:\n",
    "  - Station / Shift\n",
    "  - Model ID\n",
    "  - L6 vs L10\n",
    "\n",
    "---\n",
    "\n",
    "### 4. Shift-Based Efficiency\n",
    "- Compare:\n",
    "  - Cycle times\n",
    "  - FPY / Retest rate\n",
    "  - Blockage events (long in-station durations)\n",
    "- Identify underperforming shifts or imbalances\n",
    "\n",
    "---\n",
    "\n",
    "### 5. Component Dependency & Delay\n",
    "- Time from L6 Group complete → L10 Group start\n",
    "- Join logs across A→B to quantify delay\n",
    "- Insight into WIP queueing or supply wait\n",
    "\n",
    "---\n",
    "\n",
    "### 6. Final Integration Readiness\n",
    "- For each serial:\n",
    "  - Time all components (model_id) completed → Final L10 log\n",
    "  - Indicates readiness gap / assembly wait time\n",
    "\n",
    "---\n",
    "\n",
    "### 7. Process Flow Consistency\n",
    "- Validate expected station/route sequences\n",
    "- Identify:\n",
    "  - Missing steps\n",
    "  - Unexpected rework loops\n",
    "  - Process deviations\n",
    "\n",
    "---\n",
    "\n",
    "## Visualization Ideas\n",
    "- Gantt chart per serial to show timeline  \n",
    "- Sankey diagram: Component flow → Final assembly  \n",
    "- Heatmap: Station vs Shift (FPY, cycle time)  \n",
    "- Boxplot: Station cycle time distribution  \n",
    "\n",
    "---\n",
    "\n",
    "## Advanced Ideas (Future ML Applications)\n",
    "- **Cycle Time Prediction** per unit/station  \n",
    "- **Failure Prediction** based on logs & attempts  \n",
    "- **Anomaly Detection**:\n",
    "  - Outlier station times\n",
    "  - Suspiciously high retest loops  \n",
    "- **Clustering**:\n",
    "  - Flow behavior types\n",
    "  - Shift or model-specific patterns\n"
   ]
  },
  {
   "cell_type": "code",
   "execution_count": 16,
   "metadata": {},
   "outputs": [
    {
     "data": {
      "text/html": [
       "<div>\n",
       "<style scoped>\n",
       "    .dataframe tbody tr th:only-of-type {\n",
       "        vertical-align: middle;\n",
       "    }\n",
       "\n",
       "    .dataframe tbody tr th {\n",
       "        vertical-align: top;\n",
       "    }\n",
       "\n",
       "    .dataframe thead th {\n",
       "        text-align: right;\n",
       "    }\n",
       "</style>\n",
       "<table border=\"1\" class=\"dataframe\">\n",
       "  <thead>\n",
       "    <tr style=\"text-align: right;\">\n",
       "      <th></th>\n",
       "      <th>workorder_id</th>\n",
       "      <th>serial_number</th>\n",
       "      <th>pack_date</th>\n",
       "      <th>ship_date</th>\n",
       "      <th>skuno</th>\n",
       "      <th>sap_create_date</th>\n",
       "      <th>sap_release_date</th>\n",
       "      <th>target_qty</th>\n",
       "      <th>finished_qty</th>\n",
       "      <th>model_usage</th>\n",
       "      <th>days_to_pack</th>\n",
       "      <th>days_to_ship</th>\n",
       "    </tr>\n",
       "  </thead>\n",
       "  <tbody>\n",
       "    <tr>\n",
       "      <th>9640</th>\n",
       "      <td>000007010384</td>\n",
       "      <td>FWI2516-14432</td>\n",
       "      <td>2025-04-30 16:45:55</td>\n",
       "      <td>2025-05-08 20:14:57</td>\n",
       "      <td>1178143</td>\n",
       "      <td>2025-04-15 07:42:42-05:00</td>\n",
       "      <td>2025-04-16 07:53:36</td>\n",
       "      <td>200</td>\n",
       "      <td>200</td>\n",
       "      <td>[{'model_id': '1176301', 'required_qty': 200},...</td>\n",
       "      <td>14.369664</td>\n",
       "      <td>22.514826</td>\n",
       "    </tr>\n",
       "  </tbody>\n",
       "</table>\n",
       "</div>"
      ],
      "text/plain": [
       "      workorder_id  serial_number           pack_date           ship_date  \\\n",
       "9640  000007010384  FWI2516-14432 2025-04-30 16:45:55 2025-05-08 20:14:57   \n",
       "\n",
       "        skuno            sap_create_date    sap_release_date  target_qty  \\\n",
       "9640  1178143  2025-04-15 07:42:42-05:00 2025-04-16 07:53:36         200   \n",
       "\n",
       "      finished_qty                                        model_usage  \\\n",
       "9640           200  [{'model_id': '1176301', 'required_qty': 200},...   \n",
       "\n",
       "      days_to_pack  days_to_ship  \n",
       "9640     14.369664     22.514826  "
      ]
     },
     "execution_count": 16,
     "metadata": {},
     "output_type": "execute_result"
    }
   ],
   "source": [
    "sn_wo_model_df[sn_wo_model_df[\"serial_number\"] == \"FWI2516-14432\"]"
   ]
  },
  {
   "cell_type": "code",
   "execution_count": 260,
   "metadata": {},
   "outputs": [
    {
     "data": {
      "text/html": [
       "<div>\n",
       "<style scoped>\n",
       "    .dataframe tbody tr th:only-of-type {\n",
       "        vertical-align: middle;\n",
       "    }\n",
       "\n",
       "    .dataframe tbody tr th {\n",
       "        vertical-align: top;\n",
       "    }\n",
       "\n",
       "    .dataframe thead th {\n",
       "        text-align: right;\n",
       "    }\n",
       "</style>\n",
       "<table border=\"1\" class=\"dataframe\">\n",
       "  <thead>\n",
       "    <tr style=\"text-align: right;\">\n",
       "      <th></th>\n",
       "      <th>days_to_pack</th>\n",
       "      <th>days_to_ship</th>\n",
       "    </tr>\n",
       "  </thead>\n",
       "  <tbody>\n",
       "    <tr>\n",
       "      <th>count</th>\n",
       "      <td>9885.000000</td>\n",
       "      <td>9885.000000</td>\n",
       "    </tr>\n",
       "    <tr>\n",
       "      <th>mean</th>\n",
       "      <td>12.704104</td>\n",
       "      <td>26.878768</td>\n",
       "    </tr>\n",
       "    <tr>\n",
       "      <th>std</th>\n",
       "      <td>13.131171</td>\n",
       "      <td>20.649315</td>\n",
       "    </tr>\n",
       "    <tr>\n",
       "      <th>min</th>\n",
       "      <td>2.489317</td>\n",
       "      <td>7.268576</td>\n",
       "    </tr>\n",
       "    <tr>\n",
       "      <th>25%</th>\n",
       "      <td>6.954097</td>\n",
       "      <td>14.440405</td>\n",
       "    </tr>\n",
       "    <tr>\n",
       "      <th>50%</th>\n",
       "      <td>9.149294</td>\n",
       "      <td>21.489942</td>\n",
       "    </tr>\n",
       "    <tr>\n",
       "      <th>75%</th>\n",
       "      <td>14.117616</td>\n",
       "      <td>31.345579</td>\n",
       "    </tr>\n",
       "    <tr>\n",
       "      <th>max</th>\n",
       "      <td>234.655127</td>\n",
       "      <td>236.927847</td>\n",
       "    </tr>\n",
       "  </tbody>\n",
       "</table>\n",
       "</div>"
      ],
      "text/plain": [
       "       days_to_pack  days_to_ship\n",
       "count   9885.000000   9885.000000\n",
       "mean      12.704104     26.878768\n",
       "std       13.131171     20.649315\n",
       "min        2.489317      7.268576\n",
       "25%        6.954097     14.440405\n",
       "50%        9.149294     21.489942\n",
       "75%       14.117616     31.345579\n",
       "max      234.655127    236.927847"
      ]
     },
     "execution_count": 260,
     "metadata": {},
     "output_type": "execute_result"
    }
   ],
   "source": [
    "sn_wo_model_df[['days_to_pack', 'days_to_ship']].describe()\n"
   ]
  },
  {
   "cell_type": "code",
   "execution_count": 261,
   "metadata": {},
   "outputs": [
    {
     "data": {
      "text/html": [
       "<div>\n",
       "<style scoped>\n",
       "    .dataframe tbody tr th:only-of-type {\n",
       "        vertical-align: middle;\n",
       "    }\n",
       "\n",
       "    .dataframe tbody tr th {\n",
       "        vertical-align: top;\n",
       "    }\n",
       "\n",
       "    .dataframe thead tr th {\n",
       "        text-align: left;\n",
       "    }\n",
       "\n",
       "    .dataframe thead tr:last-of-type th {\n",
       "        text-align: right;\n",
       "    }\n",
       "</style>\n",
       "<table border=\"1\" class=\"dataframe\">\n",
       "  <thead>\n",
       "    <tr>\n",
       "      <th></th>\n",
       "      <th colspan=\"3\" halign=\"left\">days_to_pack</th>\n",
       "      <th colspan=\"3\" halign=\"left\">days_to_ship</th>\n",
       "    </tr>\n",
       "    <tr>\n",
       "      <th></th>\n",
       "      <th>mean</th>\n",
       "      <th>std</th>\n",
       "      <th>count</th>\n",
       "      <th>mean</th>\n",
       "      <th>std</th>\n",
       "      <th>count</th>\n",
       "    </tr>\n",
       "    <tr>\n",
       "      <th>skuno</th>\n",
       "      <th></th>\n",
       "      <th></th>\n",
       "      <th></th>\n",
       "      <th></th>\n",
       "      <th></th>\n",
       "      <th></th>\n",
       "    </tr>\n",
       "  </thead>\n",
       "  <tbody>\n",
       "    <tr>\n",
       "      <th>1176298</th>\n",
       "      <td>13.32</td>\n",
       "      <td>14.49</td>\n",
       "      <td>926</td>\n",
       "      <td>39.52</td>\n",
       "      <td>37.80</td>\n",
       "      <td>926</td>\n",
       "    </tr>\n",
       "    <tr>\n",
       "      <th>1176304</th>\n",
       "      <td>11.56</td>\n",
       "      <td>12.65</td>\n",
       "      <td>3125</td>\n",
       "      <td>22.50</td>\n",
       "      <td>15.67</td>\n",
       "      <td>3125</td>\n",
       "    </tr>\n",
       "    <tr>\n",
       "      <th>1178139</th>\n",
       "      <td>12.92</td>\n",
       "      <td>12.43</td>\n",
       "      <td>4995</td>\n",
       "      <td>26.57</td>\n",
       "      <td>16.16</td>\n",
       "      <td>4995</td>\n",
       "    </tr>\n",
       "    <tr>\n",
       "      <th>1178143</th>\n",
       "      <td>15.10</td>\n",
       "      <td>16.67</td>\n",
       "      <td>826</td>\n",
       "      <td>30.79</td>\n",
       "      <td>26.84</td>\n",
       "      <td>826</td>\n",
       "    </tr>\n",
       "    <tr>\n",
       "      <th>1205593</th>\n",
       "      <td>10.95</td>\n",
       "      <td>0.60</td>\n",
       "      <td>13</td>\n",
       "      <td>47.09</td>\n",
       "      <td>0.00</td>\n",
       "      <td>13</td>\n",
       "    </tr>\n",
       "  </tbody>\n",
       "</table>\n",
       "</div>"
      ],
      "text/plain": [
       "        days_to_pack              days_to_ship             \n",
       "                mean    std count         mean    std count\n",
       "skuno                                                      \n",
       "1176298        13.32  14.49   926        39.52  37.80   926\n",
       "1176304        11.56  12.65  3125        22.50  15.67  3125\n",
       "1178139        12.92  12.43  4995        26.57  16.16  4995\n",
       "1178143        15.10  16.67   826        30.79  26.84   826\n",
       "1205593        10.95   0.60    13        47.09   0.00    13"
      ]
     },
     "execution_count": 261,
     "metadata": {},
     "output_type": "execute_result"
    }
   ],
   "source": [
    "sn_wo_model_df.groupby('skuno')[['days_to_pack', 'days_to_ship']].agg(['mean', 'std', 'count']).round(2)"
   ]
  },
  {
   "cell_type": "code",
   "execution_count": 262,
   "metadata": {},
   "outputs": [
    {
     "data": {
      "text/plain": [
       "array(['1176304', '1178139', '1176298', '1178143', '1205593'],\n",
       "      dtype=object)"
      ]
     },
     "execution_count": 262,
     "metadata": {},
     "output_type": "execute_result"
    }
   ],
   "source": [
    "sn_wo_model_df.skuno.unique()"
   ]
  },
  {
   "cell_type": "code",
   "execution_count": 263,
   "metadata": {},
   "outputs": [
    {
     "data": {
      "text/plain": [
       "workorder_id\n",
       "000007008639    89.181204\n",
       "000007008644    88.351562\n",
       "000007008536    79.724802\n",
       "000007010759    55.306182\n",
       "000007008310    52.689424\n",
       "000007008115    48.622612\n",
       "000007009281    47.086296\n",
       "000007007886    43.896806\n",
       "000007008139    42.099548\n",
       "000007011141    41.164306\n",
       "Name: days_to_ship, dtype: float64"
      ]
     },
     "execution_count": 263,
     "metadata": {},
     "output_type": "execute_result"
    }
   ],
   "source": [
    "sn_wo_model_df.groupby('workorder_id')['days_to_ship'].mean().sort_values(ascending=False).head(10)"
   ]
  },
  {
   "cell_type": "code",
   "execution_count": 264,
   "metadata": {},
   "outputs": [
    {
     "data": {
      "text/html": [
       "<div>\n",
       "<style scoped>\n",
       "    .dataframe tbody tr th:only-of-type {\n",
       "        vertical-align: middle;\n",
       "    }\n",
       "\n",
       "    .dataframe tbody tr th {\n",
       "        vertical-align: top;\n",
       "    }\n",
       "\n",
       "    .dataframe thead th {\n",
       "        text-align: right;\n",
       "    }\n",
       "</style>\n",
       "<table border=\"1\" class=\"dataframe\">\n",
       "  <thead>\n",
       "    <tr style=\"text-align: right;\">\n",
       "      <th></th>\n",
       "      <th>release_week</th>\n",
       "      <th>days_to_ship</th>\n",
       "    </tr>\n",
       "  </thead>\n",
       "  <tbody>\n",
       "    <tr>\n",
       "      <th>0</th>\n",
       "      <td>2024-09-09</td>\n",
       "      <td>40.536273</td>\n",
       "    </tr>\n",
       "    <tr>\n",
       "      <th>1</th>\n",
       "      <td>2024-09-16</td>\n",
       "      <td>25.766997</td>\n",
       "    </tr>\n",
       "    <tr>\n",
       "      <th>2</th>\n",
       "      <td>2024-09-23</td>\n",
       "      <td>17.524309</td>\n",
       "    </tr>\n",
       "    <tr>\n",
       "      <th>3</th>\n",
       "      <td>2024-09-30</td>\n",
       "      <td>37.590430</td>\n",
       "    </tr>\n",
       "    <tr>\n",
       "      <th>4</th>\n",
       "      <td>2024-10-07</td>\n",
       "      <td>39.205834</td>\n",
       "    </tr>\n",
       "    <tr>\n",
       "      <th>5</th>\n",
       "      <td>2024-11-04</td>\n",
       "      <td>39.181734</td>\n",
       "    </tr>\n",
       "    <tr>\n",
       "      <th>6</th>\n",
       "      <td>2024-11-11</td>\n",
       "      <td>26.059386</td>\n",
       "    </tr>\n",
       "    <tr>\n",
       "      <th>7</th>\n",
       "      <td>2024-11-18</td>\n",
       "      <td>27.260245</td>\n",
       "    </tr>\n",
       "    <tr>\n",
       "      <th>8</th>\n",
       "      <td>2024-11-25</td>\n",
       "      <td>32.632383</td>\n",
       "    </tr>\n",
       "    <tr>\n",
       "      <th>9</th>\n",
       "      <td>2024-12-02</td>\n",
       "      <td>29.616538</td>\n",
       "    </tr>\n",
       "    <tr>\n",
       "      <th>10</th>\n",
       "      <td>2024-12-09</td>\n",
       "      <td>28.469575</td>\n",
       "    </tr>\n",
       "    <tr>\n",
       "      <th>11</th>\n",
       "      <td>2024-12-16</td>\n",
       "      <td>40.298445</td>\n",
       "    </tr>\n",
       "    <tr>\n",
       "      <th>12</th>\n",
       "      <td>2024-12-30</td>\n",
       "      <td>29.261455</td>\n",
       "    </tr>\n",
       "    <tr>\n",
       "      <th>13</th>\n",
       "      <td>2025-01-06</td>\n",
       "      <td>22.843102</td>\n",
       "    </tr>\n",
       "    <tr>\n",
       "      <th>14</th>\n",
       "      <td>2025-01-20</td>\n",
       "      <td>26.414338</td>\n",
       "    </tr>\n",
       "    <tr>\n",
       "      <th>15</th>\n",
       "      <td>2025-02-03</td>\n",
       "      <td>31.299250</td>\n",
       "    </tr>\n",
       "    <tr>\n",
       "      <th>16</th>\n",
       "      <td>2025-02-10</td>\n",
       "      <td>47.086296</td>\n",
       "    </tr>\n",
       "    <tr>\n",
       "      <th>17</th>\n",
       "      <td>2025-02-17</td>\n",
       "      <td>17.880499</td>\n",
       "    </tr>\n",
       "    <tr>\n",
       "      <th>18</th>\n",
       "      <td>2025-03-03</td>\n",
       "      <td>17.789447</td>\n",
       "    </tr>\n",
       "    <tr>\n",
       "      <th>19</th>\n",
       "      <td>2025-03-10</td>\n",
       "      <td>22.169224</td>\n",
       "    </tr>\n",
       "    <tr>\n",
       "      <th>20</th>\n",
       "      <td>2025-03-17</td>\n",
       "      <td>21.991042</td>\n",
       "    </tr>\n",
       "    <tr>\n",
       "      <th>21</th>\n",
       "      <td>2025-03-24</td>\n",
       "      <td>18.732191</td>\n",
       "    </tr>\n",
       "    <tr>\n",
       "      <th>22</th>\n",
       "      <td>2025-04-07</td>\n",
       "      <td>21.661255</td>\n",
       "    </tr>\n",
       "    <tr>\n",
       "      <th>23</th>\n",
       "      <td>2025-04-14</td>\n",
       "      <td>26.241415</td>\n",
       "    </tr>\n",
       "    <tr>\n",
       "      <th>24</th>\n",
       "      <td>2025-04-21</td>\n",
       "      <td>21.492721</td>\n",
       "    </tr>\n",
       "    <tr>\n",
       "      <th>25</th>\n",
       "      <td>2025-04-28</td>\n",
       "      <td>21.681596</td>\n",
       "    </tr>\n",
       "    <tr>\n",
       "      <th>26</th>\n",
       "      <td>2025-05-12</td>\n",
       "      <td>41.164306</td>\n",
       "    </tr>\n",
       "    <tr>\n",
       "      <th>27</th>\n",
       "      <td>2025-05-26</td>\n",
       "      <td>23.084479</td>\n",
       "    </tr>\n",
       "  </tbody>\n",
       "</table>\n",
       "</div>"
      ],
      "text/plain": [
       "   release_week  days_to_ship\n",
       "0    2024-09-09     40.536273\n",
       "1    2024-09-16     25.766997\n",
       "2    2024-09-23     17.524309\n",
       "3    2024-09-30     37.590430\n",
       "4    2024-10-07     39.205834\n",
       "5    2024-11-04     39.181734\n",
       "6    2024-11-11     26.059386\n",
       "7    2024-11-18     27.260245\n",
       "8    2024-11-25     32.632383\n",
       "9    2024-12-02     29.616538\n",
       "10   2024-12-09     28.469575\n",
       "11   2024-12-16     40.298445\n",
       "12   2024-12-30     29.261455\n",
       "13   2025-01-06     22.843102\n",
       "14   2025-01-20     26.414338\n",
       "15   2025-02-03     31.299250\n",
       "16   2025-02-10     47.086296\n",
       "17   2025-02-17     17.880499\n",
       "18   2025-03-03     17.789447\n",
       "19   2025-03-10     22.169224\n",
       "20   2025-03-17     21.991042\n",
       "21   2025-03-24     18.732191\n",
       "22   2025-04-07     21.661255\n",
       "23   2025-04-14     26.241415\n",
       "24   2025-04-21     21.492721\n",
       "25   2025-04-28     21.681596\n",
       "26   2025-05-12     41.164306\n",
       "27   2025-05-26     23.084479"
      ]
     },
     "execution_count": 264,
     "metadata": {},
     "output_type": "execute_result"
    }
   ],
   "source": [
    "sn_wo_model_df['release_week'] = sn_wo_model_df['sap_release_date'].dt.to_period('W').apply(lambda r: r.start_time)\n",
    "weekly_avg_ship = sn_wo_model_df.groupby('release_week')['days_to_ship'].mean().reset_index()\n",
    "weekly_avg_ship"
   ]
  },
  {
   "cell_type": "code",
   "execution_count": 265,
   "metadata": {},
   "outputs": [
    {
     "data": {
      "image/png": "[encoded data removed]",
      "text/plain": [
       "<Figure size 1000x600 with 1 Axes>"
      ]
     },
     "metadata": {},
     "output_type": "display_data"
    }
   ],
   "source": [
    "import seaborn as sns\n",
    "import matplotlib.pyplot as plt\n",
    "\n",
    "plt.figure(figsize=(10, 6))\n",
    "sns.boxplot(data=sn_wo_model_df, x='skuno', y='days_to_ship')\n",
    "plt.xticks(rotation=90)\n",
    "plt.title(\"Days to Ship per SKUNO\")\n",
    "plt.tight_layout()\n",
    "plt.show()\n"
   ]
  },
  {
   "cell_type": "code",
   "execution_count": 266,
   "metadata": {},
   "outputs": [
    {
     "data": {
      "image/png": "[encoded data removed]",
      "text/plain": [
       "<Figure size 640x480 with 1 Axes>"
      ]
     },
     "metadata": {},
     "output_type": "display_data"
    }
   ],
   "source": [
    "plt.hist(sn_wo_model_df['days_to_ship'], bins=40, color='skyblue', edgecolor='black')\n",
    "plt.title(\"Distribution of Days to Ship\")\n",
    "plt.xlabel(\"Days\")\n",
    "plt.ylabel(\"Serial Count\")\n",
    "plt.grid(True)\n",
    "plt.show()\n"
   ]
  },
  {
   "cell_type": "code",
   "execution_count": 267,
   "metadata": {},
   "outputs": [
    {
     "data": {
      "text/plain": [
       "workorder_id\n",
       "000007008310    43.361367\n",
       "000007008337    41.207245\n",
       "000007007886    33.644352\n",
       "000007008536    33.408637\n",
       "000007007366    32.351757\n",
       "000007007788    31.724360\n",
       "000007008115    31.599061\n",
       "000007007986    29.286181\n",
       "000007008276    28.889370\n",
       "000007007902    27.047887\n",
       "Name: days_to_ship, dtype: float64"
      ]
     },
     "execution_count": 267,
     "metadata": {},
     "output_type": "execute_result"
    }
   ],
   "source": [
    "sn_wo_model_df.groupby('workorder_id')['days_to_ship'].std().sort_values(ascending=False).head(10)\n"
   ]
  },
  {
   "cell_type": "markdown",
   "metadata": {},
   "source": []
  },
  {
   "cell_type": "code",
   "execution_count": 268,
   "metadata": {},
   "outputs": [],
   "source": [
    "# Explode model_usage: one row per (workorder_id, model_id, required_qty)\n",
    "wo_model_exploded = (\n",
    "    sn_wo_model_df[['workorder_id', 'skuno', 'target_qty', 'model_usage']]\n",
    "    .drop_duplicates('workorder_id')\n",
    "    .explode('model_usage')\n",
    "    .dropna()\n",
    ")\n",
    "wo_model_exploded['model_id'] = wo_model_exploded['model_usage'].apply(lambda x: x['model_id'])\n",
    "wo_model_exploded['required_qty'] = wo_model_exploded['model_usage'].apply(lambda x: x['required_qty'])\n",
    "wo_model_exploded.drop('model_usage', axis=1, inplace=True)\n",
    "\n",
    "# Merge WO-level average ship time\n",
    "wo_ship_time = sn_wo_model_df.groupby('workorder_id')['days_to_ship'].mean().reset_index()\n",
    "wo_model_exploded = wo_model_exploded.merge(wo_ship_time, on='workorder_id', how='left')\n"
   ]
  },
  {
   "cell_type": "code",
   "execution_count": 270,
   "metadata": {},
   "outputs": [
    {
     "data": {
      "text/plain": [
       "model_id\n",
       "1152063-01    16435540\n",
       "1158756-01    12653480\n",
       "1145816-01    12647240\n",
       "1114467       10955692\n",
       "1066991-01    10955692\n",
       "1145896        9650680\n",
       "07087259       8216769\n",
       "1152012        6976731\n",
       "1153179-01     6810800\n",
       "1183521        5728372\n",
       "1132967-02     5477846\n",
       "1117005        5477846\n",
       "1145817-01     3034020\n",
       "1152066-01     2848000\n",
       "1131563-04     2738923\n",
       "1149921        2738923\n",
       "1138896-04     2738923\n",
       "1176301        2738923\n",
       "1158204-01     2738923\n",
       "1156008        2738923\n",
       "Name: total_qty, dtype: int64"
      ]
     },
     "execution_count": 270,
     "metadata": {},
     "output_type": "execute_result"
    }
   ],
   "source": [
    "wo_model_exploded['total_qty'] = wo_model_exploded['required_qty'] * wo_model_exploded['target_qty']\n",
    "wo_model_exploded.groupby('model_id')['total_qty'].sum().sort_values(ascending=False).head(20)\n"
   ]
  },
  {
   "cell_type": "code",
   "execution_count": 271,
   "metadata": {},
   "outputs": [
    {
     "data": {
      "text/plain": [
       "model_id\n",
       "1206836-01     89.181204\n",
       "1206837-01     88.351562\n",
       "1153180-01     55.306182\n",
       "1204621        47.086296\n",
       "1203451-01     47.086296\n",
       "1195398-01     41.164306\n",
       "1152063-01     39.771030\n",
       "1217562-01     39.195331\n",
       "1129195-FLG    38.993066\n",
       "1169328        36.751665\n",
       "1116344        34.813673\n",
       "1139545        34.813673\n",
       "1160607-01     34.813673\n",
       "1178297        34.813673\n",
       "1158752-01     34.514741\n",
       "1178141        32.093918\n",
       "07009507       32.069149\n",
       "1183439        30.922384\n",
       "1129195        29.937716\n",
       "1114467        29.580674\n",
       "Name: days_to_ship, dtype: float64"
      ]
     },
     "execution_count": 271,
     "metadata": {},
     "output_type": "execute_result"
    }
   ],
   "source": [
    "wo_model_exploded.groupby('model_id')['days_to_ship'].mean().sort_values(ascending=False).head(20)\n"
   ]
  },
  {
   "cell_type": "code",
   "execution_count": 272,
   "metadata": {},
   "outputs": [
    {
     "data": {
      "text/plain": [
       "model_id\n",
       "1152063-01     26.689843\n",
       "1217562-01     22.784185\n",
       "1129195-FLG    21.080087\n",
       "1169328        20.503828\n",
       "1178141        18.565483\n",
       "07009507       17.299434\n",
       "1116344        16.970045\n",
       "1139545        16.970045\n",
       "1178297        16.970045\n",
       "1160607-01     16.970045\n",
       "1183439        16.843962\n",
       "1114467        15.771973\n",
       "07087259       15.771973\n",
       "07002344       15.771973\n",
       "07001541       15.771973\n",
       "1183521        15.771973\n",
       "1179319        15.771973\n",
       "1132967-02     15.771973\n",
       "1138896-04     15.771973\n",
       "1117005        15.771973\n",
       "Name: days_to_ship, dtype: float64"
      ]
     },
     "execution_count": 272,
     "metadata": {},
     "output_type": "execute_result"
    }
   ],
   "source": [
    "wo_model_exploded.groupby('model_id')['days_to_ship'].std().sort_values(ascending=False).head(20)\n"
   ]
  },
  {
   "cell_type": "code",
   "execution_count": 24,
   "metadata": {},
   "outputs": [
    {
     "ename": "NameError",
     "evalue": "name 'wo_model_exploded' is not defined",
     "output_type": "error",
     "traceback": [
      "\u001b[1;31m---------------------------------------------------------------------------\u001b[0m",
      "\u001b[1;31mNameError\u001b[0m                                 Traceback (most recent call last)",
      "Cell \u001b[1;32mIn[24], line 2\u001b[0m\n\u001b[0;32m      1\u001b[0m top_models \u001b[38;5;241m=\u001b[39m (\n\u001b[1;32m----> 2\u001b[0m     \u001b[43mwo_model_exploded\u001b[49m\n\u001b[0;32m      3\u001b[0m     \u001b[38;5;241m.\u001b[39mgroupby(\u001b[38;5;124m'\u001b[39m\u001b[38;5;124mmodel_id\u001b[39m\u001b[38;5;124m'\u001b[39m)[\u001b[38;5;124m'\u001b[39m\u001b[38;5;124mtotal_qty\u001b[39m\u001b[38;5;124m'\u001b[39m]\n\u001b[0;32m      4\u001b[0m     \u001b[38;5;241m.\u001b[39msum()\n\u001b[0;32m      5\u001b[0m     \u001b[38;5;241m.\u001b[39msort_values(ascending\u001b[38;5;241m=\u001b[39m\u001b[38;5;28;01mFalse\u001b[39;00m)\n\u001b[0;32m      6\u001b[0m     \u001b[38;5;241m.\u001b[39mhead(\u001b[38;5;241m15\u001b[39m)\n\u001b[0;32m      7\u001b[0m     \u001b[38;5;241m.\u001b[39mreset_index()\n\u001b[0;32m      8\u001b[0m )\n\u001b[0;32m     10\u001b[0m plt\u001b[38;5;241m.\u001b[39mfigure(figsize\u001b[38;5;241m=\u001b[39m(\u001b[38;5;241m10\u001b[39m,\u001b[38;5;241m5\u001b[39m))\n\u001b[0;32m     11\u001b[0m sns\u001b[38;5;241m.\u001b[39mbarplot(data\u001b[38;5;241m=\u001b[39mtop_models, x\u001b[38;5;241m=\u001b[39m\u001b[38;5;124m'\u001b[39m\u001b[38;5;124mmodel_id\u001b[39m\u001b[38;5;124m'\u001b[39m, y\u001b[38;5;241m=\u001b[39m\u001b[38;5;124m'\u001b[39m\u001b[38;5;124mtotal_qty\u001b[39m\u001b[38;5;124m'\u001b[39m)\n",
      "\u001b[1;31mNameError\u001b[0m: name 'wo_model_exploded' is not defined"
     ]
    }
   ],
   "source": [
    "top_models = (\n",
    "    wo_model_exploded\n",
    "    .groupby('model_id')['total_qty']\n",
    "    .sum()\n",
    "    .sort_values(ascending=False)\n",
    "    .head(15)\n",
    "    .reset_index()\n",
    ")\n",
    "\n",
    "plt.figure(figsize=(10,5))\n",
    "sns.barplot(data=top_models, x='model_id', y='total_qty')\n",
    "plt.xticks(rotation=45)\n",
    "plt.title(\"Top 15 Most Used SKUs (Qty Weighted)\")\n",
    "plt.ylabel(\"Total Required Qty\")\n",
    "plt.tight_layout()\n",
    "plt.show()\n"
   ]
  },
  {
   "cell_type": "code",
   "execution_count": null,
   "metadata": {},
   "outputs": [],
   "source": []
  },
  {
   "cell_type": "code",
   "execution_count": null,
   "metadata": {},
   "outputs": [],
   "source": []
  },
  {
   "cell_type": "code",
   "execution_count": null,
   "metadata": {},
   "outputs": [],
   "source": []
  },
  {
   "cell_type": "code",
   "execution_count": 115,
   "metadata": {},
   "outputs": [],
   "source": [
    "\n",
    "# Identify SNs packed and retested\n",
    "pack_retest_sn = athena_shipped_sn_log_final_df[athena_shipped_sn_log_final_df[\"station\"] == \"Pack\"].serial_number.unique()\n",
    "df = athena_shipped_sn_log_final_df[~athena_shipped_sn_log_final_df[\"serial_number\"].isin(pack_retest_sn)].copy()\n",
    "\n",
    "# Calculate time spent at current station = next entry time - current time\n",
    "df[\"next_time\"] = df.groupby(\"serial_number\")[\"in_station_time\"].shift(-1)\n",
    "df[\"duration_minutes\"] = (df[\"next_time\"] - df[\"in_station_time\"]).dt.total_seconds() / 60\n",
    "\n",
    "# Optional: round for readability\n",
    "df[\"duration_minutes\"] = df[\"duration_minutes\"].round(1)\n",
    "\n",
    "# Step 2: Summary statistics per station\n",
    "station_summary = df.groupby(\"station\")[\"duration_minutes\"].describe().round(1)\n",
    "\n",
    "# Step 3: Serial number scoring\n",
    "sn_score = df.groupby(\"serial_number\").agg(\n",
    "    total_time=(\"duration_minutes\", \"sum\"),\n",
    "    mean_time=(\"duration_minutes\", \"mean\"),\n",
    "    num_stations=(\"station\", \"nunique\"),\n",
    "    num_logs=(\"station\", \"count\")\n",
    ").reset_index().round(1)\n",
    "\n",
    "# Step 4: Count repeated station visits\n",
    "repeated_station_counts = (\n",
    "    df.groupby([\"serial_number\", \"station\"])\n",
    "    .size()\n",
    "    .reset_index(name=\"visits\")\n",
    "    .query(\"visits > 1\")\n",
    "    .groupby(\"serial_number\")\n",
    "    .size()\n",
    "    .reset_index(name=\"repeated_stations\")\n",
    ")\n",
    "\n",
    "# Merge repeated station info into sn_score\n",
    "sn_score = sn_score.merge(repeated_station_counts, on=\"serial_number\", how=\"left\")\n",
    "sn_score[\"repeated_stations\"] = sn_score[\"repeated_stations\"].fillna(0).astype(int)"
   ]
  },
  {
   "cell_type": "code",
   "execution_count": 112,
   "metadata": {},
   "outputs": [
    {
     "data": {
      "image/png": "[encoded data removed]",
      "text/plain": [
       "<Figure size 1400x600 with 1 Axes>"
      ]
     },
     "metadata": {},
     "output_type": "display_data"
    },
    {
     "data": {
      "image/png": "[encoded data removed]",
      "text/plain": [
       "<Figure size 1200x500 with 1 Axes>"
      ]
     },
     "metadata": {},
     "output_type": "display_data"
    },
    {
     "data": {
      "image/png": "[encoded data removed]",
      "text/plain": [
       "<Figure size 1000x500 with 1 Axes>"
      ]
     },
     "metadata": {},
     "output_type": "display_data"
    },
    {
     "data": {
      "image/png": "[encoded data removed]",
      "text/plain": [
       "<Figure size 800x500 with 1 Axes>"
      ]
     },
     "metadata": {},
     "output_type": "display_data"
    }
   ],
   "source": [
    "import matplotlib.pyplot as plt\n",
    "import seaborn as sns\n",
    "\n",
    "# Set style for plots\n",
    "sns.set(style=\"whitegrid\")\n",
    "\n",
    "# 1. Boxplot of duration per station (highlight variability and outliers)\n",
    "plt.figure(figsize=(14, 6))\n",
    "sns.boxplot(data=df, x=\"station\", y=\"duration_minutes\")\n",
    "plt.xticks(rotation=45, ha='right')\n",
    "plt.title(\"Time Spent per Station (Boxplot)\")\n",
    "plt.ylabel(\"Duration (minutes)\")\n",
    "plt.tight_layout()\n",
    "plt.show()\n",
    "\n",
    "# 2. Top stations by mean delay (bar chart)\n",
    "station_mean_delay = df.groupby(\"station\")[\"duration_minutes\"].mean().sort_values(ascending=False)\n",
    "\n",
    "plt.figure(figsize=(12, 5))\n",
    "sns.barplot(x=station_mean_delay.index, y=station_mean_delay.values)\n",
    "plt.xticks(rotation=45, ha='right')\n",
    "plt.title(\"Average Time Spent per Station\")\n",
    "plt.ylabel(\"Mean Duration (minutes)\")\n",
    "plt.tight_layout()\n",
    "plt.show()\n",
    "\n",
    "# 3. Histogram of total time per SN\n",
    "plt.figure(figsize=(10, 5))\n",
    "sns.histplot(sn_score[\"total_time\"], bins=30, kde=True)\n",
    "plt.title(\"Distribution of Total Processing Time per SN\")\n",
    "plt.xlabel(\"Total Duration (minutes)\")\n",
    "plt.tight_layout()\n",
    "plt.show()\n",
    "\n",
    "# 4. Scatterplot: total time vs repeated stations\n",
    "plt.figure(figsize=(8, 5))\n",
    "sns.scatterplot(data=sn_score, x=\"repeated_stations\", y=\"total_time\")\n",
    "plt.title(\"Total Processing Time vs. Repeated Stations\")\n",
    "plt.xlabel(\"Repeated Station Count\")\n",
    "plt.ylabel(\"Total Time (minutes)\")\n",
    "plt.tight_layout()\n",
    "plt.show()\n",
    "\n"
   ]
  },
  {
   "cell_type": "code",
   "execution_count": 108,
   "metadata": {},
   "outputs": [
    {
     "data": {
      "text/plain": [
       "station\n",
       "ATH Firmware Update                15943\n",
       "ATH Functional Test                14678\n",
       "ATH Run-in Test                    14151\n",
       "ATH SDC Test                       11194\n",
       "ATH Google Firmware Update Test    10584\n",
       "ATH Manual 1                        9930\n",
       "ATH FAN                             9920\n",
       "ATH DIMM                            9873\n",
       "ATH Manual 2                        9873\n",
       "ATH Manual 3                        9871\n",
       "ATH Manual 4                        9863\n",
       "ATH Manual 5                        9863\n",
       "Repair                               173\n",
       "Athena ORT                            42\n",
       "Pack                                   1\n",
       "Name: count, dtype: int64"
      ]
     },
     "execution_count": 108,
     "metadata": {},
     "output_type": "execute_result"
    }
   ],
   "source": [
    "athena_shipped_sn_log_final_df.station.value_counts()"
   ]
  },
  {
   "cell_type": "markdown",
   "metadata": {},
   "source": [
    "Conclustion from plots:\n",
    "1. Time Spent per Station (Boxplot)\n",
    "   * **Observation:** A few stations like **ATH Firmware Update**, **ATH Functional Test**, **ATH Run-in Test**, and **ATH SDC Test** show a wide spread with extreme outliers — some durations over 100,000+ minutes (≈ 70 days).\n",
    "   * **Conclusion:** These are likely bottlenecks or problematic stations with long queue times, test retries, or handling delays. Investigate SNs with extreme values at these stations.\n",
    "2. Mean Duration per Station (Bar Chart)\n",
    "   * **Observation:** **Athena ORT** stands out with very high mean duration. It may not appear often but when it does, it consumes a huge amount of time.\n",
    "   * **Conclusion:** A rare but very time-consuming step. Investigate whether it's expected (e.g., a long-running soak test), or a symptom of rework/retest/holding.\n",
    "3. SN Total Processing Time Distribution\n",
    "    * **Observation:** Strong right-skew. Most SNs complete within a reasonable range, but a long tail of slow ones.\n",
    "    * **Conclusion:** Ideal for outlier flagging. You can define alerts for SNs above the 95th percentile total time.\n",
    "4.  Processing Time vs. Repeated Stations\n",
    "    * **Observation:** SNs with repeated station visits often have higher processing times.\n",
    "    * **Conclusion:** Back-and-forth behavior hurts efficiency. These SNs may involve retries or repair loops. Track which station pairs cause loops (e.g., Functional Test → Repair → Functional Test)."
   ]
  },
  {
   "cell_type": "code",
   "execution_count": null,
   "metadata": {},
   "outputs": [],
   "source": []
  },
  {
   "cell_type": "code",
   "execution_count": null,
   "metadata": {},
   "outputs": [],
   "source": []
  },
  {
   "cell_type": "code",
   "execution_count": null,
   "metadata": {},
   "outputs": [],
   "source": []
  },
  {
   "cell_type": "code",
   "execution_count": null,
   "metadata": {},
   "outputs": [],
   "source": []
  },
  {
   "cell_type": "code",
   "execution_count": null,
   "metadata": {},
   "outputs": [],
   "source": []
  },
  {
   "cell_type": "code",
   "execution_count": null,
   "metadata": {},
   "outputs": [],
   "source": []
  },
  {
   "cell_type": "code",
   "execution_count": null,
   "metadata": {},
   "outputs": [],
   "source": []
  },
  {
   "cell_type": "code",
   "execution_count": null,
   "metadata": {},
   "outputs": [],
   "source": []
  },
  {
   "cell_type": "code",
   "execution_count": null,
   "metadata": {},
   "outputs": [],
   "source": []
  },
  {
   "cell_type": "code",
   "execution_count": null,
   "metadata": {},
   "outputs": [],
   "source": []
  },
  {
   "cell_type": "code",
   "execution_count": null,
   "metadata": {},
   "outputs": [],
   "source": []
  },
  {
   "cell_type": "code",
   "execution_count": null,
   "metadata": {},
   "outputs": [],
   "source": []
  }
 ],
 "metadata": {
  "kernelspec": {
   "display_name": "sc",
   "language": "python",
   "name": "python3"
  },
  "language_info": {
   "codemirror_mode": {
    "name": "ipython",
    "version": 3
   },
   "file_extension": ".py",
   "mimetype": "text/x-python",
   "name": "python",
   "nbconvert_exporter": "python",
   "pygments_lexer": "ipython3",
   "version": "3.9.0"
  }
 },
 "nbformat": 4,
 "nbformat_minor": 2
}
